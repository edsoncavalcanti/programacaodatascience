{
 "cells": [
  {
   "cell_type": "code",
   "execution_count": 3,
   "metadata": {},
   "outputs": [
    {
     "data": {
      "text/html": [
       "<ol class=list-inline>\n",
       "\t<li>1</li>\n",
       "\t<li>2</li>\n",
       "\t<li>3</li>\n",
       "\t<li>4</li>\n",
       "\t<li>5</li>\n",
       "\t<li>6</li>\n",
       "\t<li>7</li>\n",
       "\t<li>8</li>\n",
       "\t<li>9</li>\n",
       "\t<li>10</li>\n",
       "</ol>\n"
      ],
      "text/latex": [
       "\\begin{enumerate*}\n",
       "\\item 1\n",
       "\\item 2\n",
       "\\item 3\n",
       "\\item 4\n",
       "\\item 5\n",
       "\\item 6\n",
       "\\item 7\n",
       "\\item 8\n",
       "\\item 9\n",
       "\\item 10\n",
       "\\end{enumerate*}\n"
      ],
      "text/markdown": [
       "1. 1\n",
       "2. 2\n",
       "3. 3\n",
       "4. 4\n",
       "5. 5\n",
       "6. 6\n",
       "7. 7\n",
       "8. 8\n",
       "9. 9\n",
       "10. 10\n",
       "\n",
       "\n"
      ],
      "text/plain": [
       " [1]  1  2  3  4  5  6  7  8  9 10"
      ]
     },
     "metadata": {},
     "output_type": "display_data"
    }
   ],
   "source": [
    "1:10"
   ]
  },
  {
   "cell_type": "code",
   "execution_count": 4,
   "metadata": {},
   "outputs": [
    {
     "data": {
      "text/html": [
       "<ol class=list-inline>\n",
       "\t<li>10</li>\n",
       "\t<li>20</li>\n",
       "\t<li>30</li>\n",
       "\t<li>40</li>\n",
       "\t<li>50</li>\n",
       "\t<li>60</li>\n",
       "\t<li>70</li>\n",
       "\t<li>80</li>\n",
       "\t<li>90</li>\n",
       "\t<li>100</li>\n",
       "</ol>\n"
      ],
      "text/latex": [
       "\\begin{enumerate*}\n",
       "\\item 10\n",
       "\\item 20\n",
       "\\item 30\n",
       "\\item 40\n",
       "\\item 50\n",
       "\\item 60\n",
       "\\item 70\n",
       "\\item 80\n",
       "\\item 90\n",
       "\\item 100\n",
       "\\end{enumerate*}\n"
      ],
      "text/markdown": [
       "1. 10\n",
       "2. 20\n",
       "3. 30\n",
       "4. 40\n",
       "5. 50\n",
       "6. 60\n",
       "7. 70\n",
       "8. 80\n",
       "9. 90\n",
       "10. 100\n",
       "\n",
       "\n"
      ],
      "text/plain": [
       " [1]  10  20  30  40  50  60  70  80  90 100"
      ]
     },
     "metadata": {},
     "output_type": "display_data"
    }
   ],
   "source": [
    "(1:10)*10"
   ]
  },
  {
   "cell_type": "code",
   "execution_count": 5,
   "metadata": {},
   "outputs": [
    {
     "data": {
      "text/html": [
       "<ol class=list-inline>\n",
       "\t<li>0</li>\n",
       "\t<li>10</li>\n",
       "\t<li>20</li>\n",
       "\t<li>30</li>\n",
       "\t<li>40</li>\n",
       "\t<li>50</li>\n",
       "\t<li>60</li>\n",
       "\t<li>70</li>\n",
       "\t<li>80</li>\n",
       "\t<li>90</li>\n",
       "\t<li>100</li>\n",
       "</ol>\n"
      ],
      "text/latex": [
       "\\begin{enumerate*}\n",
       "\\item 0\n",
       "\\item 10\n",
       "\\item 20\n",
       "\\item 30\n",
       "\\item 40\n",
       "\\item 50\n",
       "\\item 60\n",
       "\\item 70\n",
       "\\item 80\n",
       "\\item 90\n",
       "\\item 100\n",
       "\\end{enumerate*}\n"
      ],
      "text/markdown": [
       "1. 0\n",
       "2. 10\n",
       "3. 20\n",
       "4. 30\n",
       "5. 40\n",
       "6. 50\n",
       "7. 60\n",
       "8. 70\n",
       "9. 80\n",
       "10. 90\n",
       "11. 100\n",
       "\n",
       "\n"
      ],
      "text/plain": [
       " [1]   0  10  20  30  40  50  60  70  80  90 100"
      ]
     },
     "metadata": {},
     "output_type": "display_data"
    }
   ],
   "source": [
    "seq(from=0,to=100,by=10)"
   ]
  },
  {
   "cell_type": "code",
   "execution_count": 9,
   "metadata": {},
   "outputs": [
    {
     "data": {
      "text/html": [
       "<ol class=list-inline>\n",
       "\t<li>1</li>\n",
       "\t<li>1.64285714285714</li>\n",
       "\t<li>2.28571428571429</li>\n",
       "\t<li>2.92857142857143</li>\n",
       "\t<li>3.57142857142857</li>\n",
       "\t<li>4.21428571428571</li>\n",
       "\t<li>4.85714285714286</li>\n",
       "\t<li>5.5</li>\n",
       "\t<li>6.14285714285714</li>\n",
       "\t<li>6.78571428571429</li>\n",
       "\t<li>7.42857142857143</li>\n",
       "\t<li>8.07142857142857</li>\n",
       "\t<li>8.71428571428572</li>\n",
       "\t<li>9.35714285714286</li>\n",
       "\t<li>10</li>\n",
       "</ol>\n"
      ],
      "text/latex": [
       "\\begin{enumerate*}\n",
       "\\item 1\n",
       "\\item 1.64285714285714\n",
       "\\item 2.28571428571429\n",
       "\\item 2.92857142857143\n",
       "\\item 3.57142857142857\n",
       "\\item 4.21428571428571\n",
       "\\item 4.85714285714286\n",
       "\\item 5.5\n",
       "\\item 6.14285714285714\n",
       "\\item 6.78571428571429\n",
       "\\item 7.42857142857143\n",
       "\\item 8.07142857142857\n",
       "\\item 8.71428571428572\n",
       "\\item 9.35714285714286\n",
       "\\item 10\n",
       "\\end{enumerate*}\n"
      ],
      "text/markdown": [
       "1. 1\n",
       "2. 1.64285714285714\n",
       "3. 2.28571428571429\n",
       "4. 2.92857142857143\n",
       "5. 3.57142857142857\n",
       "6. 4.21428571428571\n",
       "7. 4.85714285714286\n",
       "8. 5.5\n",
       "9. 6.14285714285714\n",
       "10. 6.78571428571429\n",
       "11. 7.42857142857143\n",
       "12. 8.07142857142857\n",
       "13. 8.71428571428572\n",
       "14. 9.35714285714286\n",
       "15. 10\n",
       "\n",
       "\n"
      ],
      "text/plain": [
       " [1]  1.000000  1.642857  2.285714  2.928571  3.571429  4.214286  4.857143\n",
       " [8]  5.500000  6.142857  6.785714  7.428571  8.071429  8.714286  9.357143\n",
       "[15] 10.000000"
      ]
     },
     "metadata": {},
     "output_type": "display_data"
    }
   ],
   "source": [
    "seq(from=1,to=10,length.out=15)"
   ]
  },
  {
   "cell_type": "code",
   "execution_count": 10,
   "metadata": {},
   "outputs": [
    {
     "data": {
      "text/html": [
       "<ol class=list-inline>\n",
       "\t<li>'A'</li>\n",
       "\t<li>'A'</li>\n",
       "\t<li>'A'</li>\n",
       "\t<li>'A'</li>\n",
       "\t<li>'A'</li>\n",
       "\t<li>'A'</li>\n",
       "\t<li>'A'</li>\n",
       "\t<li>'A'</li>\n",
       "\t<li>'A'</li>\n",
       "\t<li>'A'</li>\n",
       "</ol>\n"
      ],
      "text/latex": [
       "\\begin{enumerate*}\n",
       "\\item 'A'\n",
       "\\item 'A'\n",
       "\\item 'A'\n",
       "\\item 'A'\n",
       "\\item 'A'\n",
       "\\item 'A'\n",
       "\\item 'A'\n",
       "\\item 'A'\n",
       "\\item 'A'\n",
       "\\item 'A'\n",
       "\\end{enumerate*}\n"
      ],
      "text/markdown": [
       "1. 'A'\n",
       "2. 'A'\n",
       "3. 'A'\n",
       "4. 'A'\n",
       "5. 'A'\n",
       "6. 'A'\n",
       "7. 'A'\n",
       "8. 'A'\n",
       "9. 'A'\n",
       "10. 'A'\n",
       "\n",
       "\n"
      ],
      "text/plain": [
       " [1] \"A\" \"A\" \"A\" \"A\" \"A\" \"A\" \"A\" \"A\" \"A\" \"A\""
      ]
     },
     "metadata": {},
     "output_type": "display_data"
    }
   ],
   "source": [
    "rep(\"A\",times=10)"
   ]
  },
  {
   "cell_type": "code",
   "execution_count": 15,
   "metadata": {
    "scrolled": true
   },
   "outputs": [
    {
     "data": {
      "text/html": [
       "<ol class=list-inline>\n",
       "\t<li>'A'</li>\n",
       "\t<li>'A'</li>\n",
       "\t<li>'A'</li>\n",
       "\t<li>'A'</li>\n",
       "\t<li>'A'</li>\n",
       "\t<li>'A'</li>\n",
       "\t<li>'A'</li>\n",
       "\t<li>'A'</li>\n",
       "\t<li>'A'</li>\n",
       "\t<li>'A'</li>\n",
       "\t<li>'B'</li>\n",
       "\t<li>'B'</li>\n",
       "\t<li>'B'</li>\n",
       "\t<li>'B'</li>\n",
       "\t<li>'B'</li>\n",
       "\t<li>'B'</li>\n",
       "\t<li>'B'</li>\n",
       "\t<li>'B'</li>\n",
       "\t<li>'B'</li>\n",
       "\t<li>'B'</li>\n",
       "\t<li>'C'</li>\n",
       "\t<li>'C'</li>\n",
       "\t<li>'C'</li>\n",
       "\t<li>'C'</li>\n",
       "\t<li>'C'</li>\n",
       "\t<li>'C'</li>\n",
       "\t<li>'C'</li>\n",
       "\t<li>'C'</li>\n",
       "\t<li>'C'</li>\n",
       "\t<li>'C'</li>\n",
       "</ol>\n"
      ],
      "text/latex": [
       "\\begin{enumerate*}\n",
       "\\item 'A'\n",
       "\\item 'A'\n",
       "\\item 'A'\n",
       "\\item 'A'\n",
       "\\item 'A'\n",
       "\\item 'A'\n",
       "\\item 'A'\n",
       "\\item 'A'\n",
       "\\item 'A'\n",
       "\\item 'A'\n",
       "\\item 'B'\n",
       "\\item 'B'\n",
       "\\item 'B'\n",
       "\\item 'B'\n",
       "\\item 'B'\n",
       "\\item 'B'\n",
       "\\item 'B'\n",
       "\\item 'B'\n",
       "\\item 'B'\n",
       "\\item 'B'\n",
       "\\item 'C'\n",
       "\\item 'C'\n",
       "\\item 'C'\n",
       "\\item 'C'\n",
       "\\item 'C'\n",
       "\\item 'C'\n",
       "\\item 'C'\n",
       "\\item 'C'\n",
       "\\item 'C'\n",
       "\\item 'C'\n",
       "\\end{enumerate*}\n"
      ],
      "text/markdown": [
       "1. 'A'\n",
       "2. 'A'\n",
       "3. 'A'\n",
       "4. 'A'\n",
       "5. 'A'\n",
       "6. 'A'\n",
       "7. 'A'\n",
       "8. 'A'\n",
       "9. 'A'\n",
       "10. 'A'\n",
       "11. 'B'\n",
       "12. 'B'\n",
       "13. 'B'\n",
       "14. 'B'\n",
       "15. 'B'\n",
       "16. 'B'\n",
       "17. 'B'\n",
       "18. 'B'\n",
       "19. 'B'\n",
       "20. 'B'\n",
       "21. 'C'\n",
       "22. 'C'\n",
       "23. 'C'\n",
       "24. 'C'\n",
       "25. 'C'\n",
       "26. 'C'\n",
       "27. 'C'\n",
       "28. 'C'\n",
       "29. 'C'\n",
       "30. 'C'\n",
       "\n",
       "\n"
      ],
      "text/plain": [
       " [1] \"A\" \"A\" \"A\" \"A\" \"A\" \"A\" \"A\" \"A\" \"A\" \"A\" \"B\" \"B\" \"B\" \"B\" \"B\" \"B\" \"B\" \"B\" \"B\"\n",
       "[20] \"B\" \"C\" \"C\" \"C\" \"C\" \"C\" \"C\" \"C\" \"C\" \"C\" \"C\""
      ]
     },
     "metadata": {},
     "output_type": "display_data"
    }
   ],
   "source": [
    "rep(c(\"A\",\"B\",\"C\"),each=10)"
   ]
  },
  {
   "cell_type": "code",
   "execution_count": 18,
   "metadata": {},
   "outputs": [
    {
     "name": "stdout",
     "output_type": "stream",
     "text": [
      " [1] \"A\" \"A\" \"B\" \"B\" \"B\" \"C\" \"C\" \"C\" \"C\" \"C\"\n"
     ]
    }
   ],
   "source": [
    "seqABC <-rep(c(\"A\",\"B\",\"C\"),times=c(2,3,5))\n",
    "print(seqABC)"
   ]
  },
  {
   "cell_type": "code",
   "execution_count": 19,
   "metadata": {},
   "outputs": [
    {
     "data": {
      "text/html": [
       "<ol class=list-inline>\n",
       "\t<li>17.882209993666</li>\n",
       "\t<li>34.1820789978374</li>\n",
       "\t<li>68.7718221924733</li>\n",
       "\t<li>15.8531866625417</li>\n",
       "\t<li>28.8778105466627</li>\n",
       "\t<li>98.5200132976752</li>\n",
       "\t<li>25.5504548412282</li>\n",
       "\t<li>59.1123755979352</li>\n",
       "\t<li>97.8900645168032</li>\n",
       "\t<li>6.68433605623432</li>\n",
       "</ol>\n"
      ],
      "text/latex": [
       "\\begin{enumerate*}\n",
       "\\item 17.882209993666\n",
       "\\item 34.1820789978374\n",
       "\\item 68.7718221924733\n",
       "\\item 15.8531866625417\n",
       "\\item 28.8778105466627\n",
       "\\item 98.5200132976752\n",
       "\\item 25.5504548412282\n",
       "\\item 59.1123755979352\n",
       "\\item 97.8900645168032\n",
       "\\item 6.68433605623432\n",
       "\\end{enumerate*}\n"
      ],
      "text/markdown": [
       "1. 17.882209993666\n",
       "2. 34.1820789978374\n",
       "3. 68.7718221924733\n",
       "4. 15.8531866625417\n",
       "5. 28.8778105466627\n",
       "6. 98.5200132976752\n",
       "7. 25.5504548412282\n",
       "8. 59.1123755979352\n",
       "9. 97.8900645168032\n",
       "10. 6.68433605623432\n",
       "\n",
       "\n"
      ],
      "text/plain": [
       " [1] 17.882210 34.182079 68.771822 15.853187 28.877811 98.520013 25.550455\n",
       " [8] 59.112376 97.890065  6.684336"
      ]
     },
     "metadata": {},
     "output_type": "display_data"
    }
   ],
   "source": [
    "runif(10,1,100)"
   ]
  },
  {
   "cell_type": "code",
   "execution_count": 65,
   "metadata": {},
   "outputs": [
    {
     "name": "stdout",
     "output_type": "stream",
     "text": [
      "[1] \"21/06/1970\"\n"
     ]
    }
   ],
   "source": [
    "copa.70 <- \"21/06/1970\"\n",
    "print(copa.70)"
   ]
  },
  {
   "cell_type": "code",
   "execution_count": 66,
   "metadata": {
    "scrolled": true
   },
   "outputs": [
    {
     "name": "stdout",
     "output_type": "stream",
     "text": [
      "[1] \"17/07/1994\"\n"
     ]
    }
   ],
   "source": [
    "copa.94 <-\"17/07/1994\"\n",
    "print(copa.94)"
   ]
  },
  {
   "cell_type": "code",
   "execution_count": 67,
   "metadata": {},
   "outputs": [
    {
     "data": {
      "text/html": [
       "'character'"
      ],
      "text/latex": [
       "'character'"
      ],
      "text/markdown": [
       "'character'"
      ],
      "text/plain": [
       "[1] \"character\""
      ]
     },
     "metadata": {},
     "output_type": "display_data"
    },
    {
     "data": {
      "text/html": [
       "'character'"
      ],
      "text/latex": [
       "'character'"
      ],
      "text/markdown": [
       "'character'"
      ],
      "text/plain": [
       "[1] \"character\""
      ]
     },
     "metadata": {},
     "output_type": "display_data"
    }
   ],
   "source": [
    "class(copa.70);class(copa.94)"
   ]
  },
  {
   "cell_type": "code",
   "execution_count": 68,
   "metadata": {},
   "outputs": [
    {
     "data": {
      "text/html": [
       "'Date'"
      ],
      "text/latex": [
       "'Date'"
      ],
      "text/markdown": [
       "'Date'"
      ],
      "text/plain": [
       "[1] \"Date\""
      ]
     },
     "metadata": {},
     "output_type": "display_data"
    },
    {
     "data": {
      "text/html": [
       "'Date'"
      ],
      "text/latex": [
       "'Date'"
      ],
      "text/markdown": [
       "'Date'"
      ],
      "text/plain": [
       "[1] \"Date\""
      ]
     },
     "metadata": {},
     "output_type": "display_data"
    }
   ],
   "source": [
    "copa.70 <- as.Date(copa.70,format=\"%d/%m/%Y\")\n",
    "copa.94 <- as.Date(copa.94,format=\"%d/%m/%Y\")\n",
    "class(copa.70);class(copa.94)"
   ]
  },
  {
   "cell_type": "code",
   "execution_count": 69,
   "metadata": {},
   "outputs": [
    {
     "name": "stdout",
     "output_type": "stream",
     "text": [
      "[1] \"1994-07-17\"\n"
     ]
    }
   ],
   "source": [
    "print(copa.94)"
   ]
  },
  {
   "cell_type": "code",
   "execution_count": 70,
   "metadata": {},
   "outputs": [
    {
     "name": "stdout",
     "output_type": "stream",
     "text": [
      "Time difference of 8792 days\n"
     ]
    }
   ],
   "source": [
    "print(copa.94-copa.70)"
   ]
  },
  {
   "cell_type": "code",
   "execution_count": 79,
   "metadata": {},
   "outputs": [
    {
     "data": {
      "text/html": [
       "'character'"
      ],
      "text/latex": [
       "'character'"
      ],
      "text/markdown": [
       "'character'"
      ],
      "text/plain": [
       "[1] \"character\""
      ]
     },
     "metadata": {},
     "output_type": "display_data"
    },
    {
     "data": {
      "text/html": [
       "'numeric'"
      ],
      "text/latex": [
       "'numeric'"
      ],
      "text/markdown": [
       "'numeric'"
      ],
      "text/plain": [
       "[1] \"numeric\""
      ]
     },
     "metadata": {},
     "output_type": "display_data"
    },
    {
     "data": {
      "text/html": [
       "'character'"
      ],
      "text/latex": [
       "'character'"
      ],
      "text/markdown": [
       "'character'"
      ],
      "text/plain": [
       "[1] \"character\""
      ]
     },
     "metadata": {},
     "output_type": "display_data"
    },
    {
     "data": {
      "text/html": [
       "'double'"
      ],
      "text/latex": [
       "'double'"
      ],
      "text/markdown": [
       "'double'"
      ],
      "text/plain": [
       "[1] \"double\""
      ]
     },
     "metadata": {},
     "output_type": "display_data"
    },
    {
     "name": "stdout",
     "output_type": "stream",
     "text": [
      "[1] FALSE\n"
     ]
    },
    {
     "data": {
      "text/html": [
       "'logical'"
      ],
      "text/latex": [
       "'logical'"
      ],
      "text/markdown": [
       "'logical'"
      ],
      "text/plain": [
       "[1] \"logical\""
      ]
     },
     "metadata": {},
     "output_type": "display_data"
    }
   ],
   "source": [
    "nome<- \"Edson\"\n",
    "cpf <- 879867\n",
    "\n",
    "class(nome);class(cpf)\n",
    "typeof(nome);typeof(cpf)\n",
    "\n",
    "cpf2 <- is.integer(cpf)\n",
    "print(cpf2)\n",
    "typeof(cpf2)\n",
    "\n"
   ]
  },
  {
   "cell_type": "code",
   "execution_count": 85,
   "metadata": {},
   "outputs": [
    {
     "data": {
      "text/html": [
       "'integer'"
      ],
      "text/latex": [
       "'integer'"
      ],
      "text/markdown": [
       "'integer'"
      ],
      "text/plain": [
       "[1] \"integer\""
      ]
     },
     "metadata": {},
     "output_type": "display_data"
    },
    {
     "data": {
      "text/html": [
       "'integer'"
      ],
      "text/latex": [
       "'integer'"
      ],
      "text/markdown": [
       "'integer'"
      ],
      "text/plain": [
       "[1] \"integer\""
      ]
     },
     "metadata": {},
     "output_type": "display_data"
    }
   ],
   "source": [
    "a <- 1:5\n",
    "typeof(a)\n",
    "class(a)"
   ]
  },
  {
   "cell_type": "code",
   "execution_count": 87,
   "metadata": {},
   "outputs": [
    {
     "name": "stdout",
     "output_type": "stream",
     "text": [
      "[1] a a a b b b c c c\n",
      "Levels: a b c\n"
     ]
    }
   ],
   "source": [
    "b <- factor(rep(c(\"a\",\"b\",\"c\"),each=3))\n",
    "print(b)"
   ]
  },
  {
   "cell_type": "code",
   "execution_count": 91,
   "metadata": {},
   "outputs": [
    {
     "name": "stdout",
     "output_type": "stream",
     "text": [
      "  sec inicio\n",
      "1 XIX   1801\n",
      "2  XX   1901\n",
      "3 XXI   2001\n"
     ]
    },
    {
     "data": {
      "text/html": [
       "'data.frame'"
      ],
      "text/latex": [
       "'data.frame'"
      ],
      "text/markdown": [
       "'data.frame'"
      ],
      "text/plain": [
       "[1] \"data.frame\""
      ]
     },
     "metadata": {},
     "output_type": "display_data"
    },
    {
     "data": {
      "text/html": [
       "'list'"
      ],
      "text/latex": [
       "'list'"
      ],
      "text/markdown": [
       "'list'"
      ],
      "text/plain": [
       "[1] \"list\""
      ]
     },
     "metadata": {},
     "output_type": "display_data"
    }
   ],
   "source": [
    "c <- data.frame(sec=c(\"XIX\",\"XX\",\"XXI\"),inicio=c(1801,1901,2001))\n",
    "print(c)\n",
    "class(c)\n",
    "typeof(c)"
   ]
  },
  {
   "cell_type": "code",
   "execution_count": 95,
   "metadata": {},
   "outputs": [
    {
     "name": "stdout",
     "output_type": "stream",
     "text": [
      "    Nome Idade Brasileiro\n",
      "1   Joao    30       TRUE\n",
      "2   Jose    25       TRUE\n",
      "3  Maria    47      FALSE\n",
      "4  Joana    52       TRUE\n",
      "5 Marcos    18      FALSE\n"
     ]
    }
   ],
   "source": [
    "dados <- data.frame(Nome=c(\"Joao\",\"Jose\",\"Maria\",\"Joana\",\"Marcos\"),Idade=c(30,25,47,52,18),Brasileiro=c(TRUE,TRUE,FALSE,TRUE,FALSE))\n",
    "print(dados)"
   ]
  },
  {
   "cell_type": "code",
   "execution_count": 112,
   "metadata": {},
   "outputs": [
    {
     "data": {
      "text/html": [
       "<ol class=list-inline>\n",
       "\t<li>8</li>\n",
       "\t<li>9</li>\n",
       "\t<li>9</li>\n",
       "</ol>\n"
      ],
      "text/latex": [
       "\\begin{enumerate*}\n",
       "\\item 8\n",
       "\\item 9\n",
       "\\item 9\n",
       "\\end{enumerate*}\n"
      ],
      "text/markdown": [
       "1. 8\n",
       "2. 9\n",
       "3. 9\n",
       "\n",
       "\n"
      ],
      "text/plain": [
       "[1] 8 9 9"
      ]
     },
     "metadata": {},
     "output_type": "display_data"
    },
    {
     "data": {
      "text/html": [
       "<ol class=list-inline>\n",
       "\t<li>4</li>\n",
       "\t<li>&lt;NA&gt;</li>\n",
       "\t<li>6</li>\n",
       "\t<li>1</li>\n",
       "\t<li>7</li>\n",
       "</ol>\n"
      ],
      "text/latex": [
       "\\begin{enumerate*}\n",
       "\\item 4\n",
       "\\item <NA>\n",
       "\\item 6\n",
       "\\item 1\n",
       "\\item 7\n",
       "\\end{enumerate*}\n"
      ],
      "text/markdown": [
       "1. 4\n",
       "2. &lt;NA&gt;\n",
       "3. 6\n",
       "4. 1\n",
       "5. 7\n",
       "\n",
       "\n"
      ],
      "text/plain": [
       "[1]  4 NA  6  1  7"
      ]
     },
     "metadata": {},
     "output_type": "display_data"
    },
    {
     "data": {
      "text/html": [
       "<ol class=list-inline>\n",
       "\t<li>8</li>\n",
       "\t<li>&lt;NA&gt;</li>\n",
       "\t<li>6</li>\n",
       "\t<li>7</li>\n",
       "</ol>\n"
      ],
      "text/latex": [
       "\\begin{enumerate*}\n",
       "\\item 8\n",
       "\\item <NA>\n",
       "\\item 6\n",
       "\\item 7\n",
       "\\end{enumerate*}\n"
      ],
      "text/markdown": [
       "1. 8\n",
       "2. &lt;NA&gt;\n",
       "3. 6\n",
       "4. 7\n",
       "\n",
       "\n"
      ],
      "text/plain": [
       "[1]  8 NA  6  7"
      ]
     },
     "metadata": {},
     "output_type": "display_data"
    },
    {
     "data": {
      "text/html": [
       "<ol class=list-inline>\n",
       "\t<li>8</li>\n",
       "\t<li>4</li>\n",
       "\t<li>9</li>\n",
       "\t<li>6</li>\n",
       "\t<li>1</li>\n",
       "\t<li>7</li>\n",
       "\t<li>9</li>\n",
       "</ol>\n"
      ],
      "text/latex": [
       "\\begin{enumerate*}\n",
       "\\item 8\n",
       "\\item 4\n",
       "\\item 9\n",
       "\\item 6\n",
       "\\item 1\n",
       "\\item 7\n",
       "\\item 9\n",
       "\\end{enumerate*}\n"
      ],
      "text/markdown": [
       "1. 8\n",
       "2. 4\n",
       "3. 9\n",
       "4. 6\n",
       "5. 1\n",
       "6. 7\n",
       "7. 9\n",
       "\n",
       "\n"
      ],
      "text/plain": [
       "[1] 8 4 9 6 1 7 9"
      ]
     },
     "metadata": {},
     "output_type": "display_data"
    },
    {
     "data": {
      "text/html": [
       "<ol class=list-inline>\n",
       "\t<li>FALSE</li>\n",
       "\t<li>FALSE</li>\n",
       "\t<li>TRUE</li>\n",
       "\t<li>FALSE</li>\n",
       "\t<li>FALSE</li>\n",
       "\t<li>FALSE</li>\n",
       "\t<li>FALSE</li>\n",
       "\t<li>FALSE</li>\n",
       "</ol>\n"
      ],
      "text/latex": [
       "\\begin{enumerate*}\n",
       "\\item FALSE\n",
       "\\item FALSE\n",
       "\\item TRUE\n",
       "\\item FALSE\n",
       "\\item FALSE\n",
       "\\item FALSE\n",
       "\\item FALSE\n",
       "\\item FALSE\n",
       "\\end{enumerate*}\n"
      ],
      "text/markdown": [
       "1. FALSE\n",
       "2. FALSE\n",
       "3. TRUE\n",
       "4. FALSE\n",
       "5. FALSE\n",
       "6. FALSE\n",
       "7. FALSE\n",
       "8. FALSE\n",
       "\n",
       "\n"
      ],
      "text/plain": [
       "[1] FALSE FALSE  TRUE FALSE FALSE FALSE FALSE FALSE"
      ]
     },
     "metadata": {},
     "output_type": "display_data"
    }
   ],
   "source": [
    "cont <- c(8,4,NA,9,6,1,7,9)\n",
    "cont[c(1,4,8)]\n",
    "\n",
    "\n",
    "cont[-c(1,4,8)]\n",
    "\n",
    "cont[seq(1,8,by=2)]\n",
    "\n",
    "cont[!is.na(cont)]\n",
    "\n",
    "is.na(cont)"
   ]
  },
  {
   "cell_type": "code",
   "execution_count": 114,
   "metadata": {},
   "outputs": [],
   "source": [
    "names(cont)<-letters[1:length(cont)]"
   ]
  },
  {
   "cell_type": "code",
   "execution_count": 119,
   "metadata": {},
   "outputs": [
    {
     "data": {
      "text/html": [
       "<ol class=list-inline>\n",
       "\t<li>'a'</li>\n",
       "\t<li>'b'</li>\n",
       "\t<li>'c'</li>\n",
       "\t<li>'d'</li>\n",
       "\t<li>'e'</li>\n",
       "\t<li>'f'</li>\n",
       "\t<li>'g'</li>\n",
       "\t<li>'h'</li>\n",
       "</ol>\n"
      ],
      "text/latex": [
       "\\begin{enumerate*}\n",
       "\\item 'a'\n",
       "\\item 'b'\n",
       "\\item 'c'\n",
       "\\item 'd'\n",
       "\\item 'e'\n",
       "\\item 'f'\n",
       "\\item 'g'\n",
       "\\item 'h'\n",
       "\\end{enumerate*}\n"
      ],
      "text/markdown": [
       "1. 'a'\n",
       "2. 'b'\n",
       "3. 'c'\n",
       "4. 'd'\n",
       "5. 'e'\n",
       "6. 'f'\n",
       "7. 'g'\n",
       "8. 'h'\n",
       "\n",
       "\n"
      ],
      "text/plain": [
       "[1] \"a\" \"b\" \"c\" \"d\" \"e\" \"f\" \"g\" \"h\""
      ]
     },
     "metadata": {},
     "output_type": "display_data"
    }
   ],
   "source": [
    "letters[1:length(cont)]"
   ]
  },
  {
   "cell_type": "code",
   "execution_count": 120,
   "metadata": {},
   "outputs": [
    {
     "data": {
      "text/html": [
       "<ol class=list-inline>\n",
       "\t<li>'a'</li>\n",
       "\t<li>'b'</li>\n",
       "\t<li>'c'</li>\n",
       "\t<li>'d'</li>\n",
       "\t<li>'e'</li>\n",
       "\t<li>'f'</li>\n",
       "\t<li>'g'</li>\n",
       "\t<li>'h'</li>\n",
       "</ol>\n"
      ],
      "text/latex": [
       "\\begin{enumerate*}\n",
       "\\item 'a'\n",
       "\\item 'b'\n",
       "\\item 'c'\n",
       "\\item 'd'\n",
       "\\item 'e'\n",
       "\\item 'f'\n",
       "\\item 'g'\n",
       "\\item 'h'\n",
       "\\end{enumerate*}\n"
      ],
      "text/markdown": [
       "1. 'a'\n",
       "2. 'b'\n",
       "3. 'c'\n",
       "4. 'd'\n",
       "5. 'e'\n",
       "6. 'f'\n",
       "7. 'g'\n",
       "8. 'h'\n",
       "\n",
       "\n"
      ],
      "text/plain": [
       "[1] \"a\" \"b\" \"c\" \"d\" \"e\" \"f\" \"g\" \"h\""
      ]
     },
     "metadata": {},
     "output_type": "display_data"
    }
   ],
   "source": [
    "names(cont)"
   ]
  },
  {
   "cell_type": "code",
   "execution_count": 121,
   "metadata": {},
   "outputs": [
    {
     "data": {
      "text/html": [
       "<dl class=dl-horizontal>\n",
       "\t<dt>a</dt>\n",
       "\t\t<dd>8</dd>\n",
       "\t<dt>b</dt>\n",
       "\t\t<dd>4</dd>\n",
       "\t<dt>c</dt>\n",
       "\t\t<dd>&lt;NA&gt;</dd>\n",
       "\t<dt>d</dt>\n",
       "\t\t<dd>9</dd>\n",
       "\t<dt>e</dt>\n",
       "\t\t<dd>6</dd>\n",
       "\t<dt>f</dt>\n",
       "\t\t<dd>1</dd>\n",
       "\t<dt>g</dt>\n",
       "\t\t<dd>7</dd>\n",
       "\t<dt>h</dt>\n",
       "\t\t<dd>9</dd>\n",
       "</dl>\n"
      ],
      "text/latex": [
       "\\begin{description*}\n",
       "\\item[a] 8\n",
       "\\item[b] 4\n",
       "\\item[c] <NA>\n",
       "\\item[d] 9\n",
       "\\item[e] 6\n",
       "\\item[f] 1\n",
       "\\item[g] 7\n",
       "\\item[h] 9\n",
       "\\end{description*}\n"
      ],
      "text/markdown": [
       "a\n",
       ":   8b\n",
       ":   4c\n",
       ":   &lt;NA&gt;d\n",
       ":   9e\n",
       ":   6f\n",
       ":   1g\n",
       ":   7h\n",
       ":   9\n",
       "\n"
      ],
      "text/plain": [
       " a  b  c  d  e  f  g  h \n",
       " 8  4 NA  9  6  1  7  9 "
      ]
     },
     "metadata": {},
     "output_type": "display_data"
    }
   ],
   "source": [
    "cont"
   ]
  },
  {
   "cell_type": "code",
   "execution_count": 122,
   "metadata": {},
   "outputs": [
    {
     "data": {
      "text/html": [
       "<strong>d:</strong> 9"
      ],
      "text/latex": [
       "\\textbf{d:} 9"
      ],
      "text/markdown": [
       "**d:** 9"
      ],
      "text/plain": [
       "d \n",
       "9 "
      ]
     },
     "metadata": {},
     "output_type": "display_data"
    }
   ],
   "source": [
    "cont[\"d\"]"
   ]
  },
  {
   "cell_type": "code",
   "execution_count": 123,
   "metadata": {},
   "outputs": [
    {
     "data": {
      "text/html": [
       "<dl class=dl-horizontal>\n",
       "\t<dt>f</dt>\n",
       "\t\t<dd>1</dd>\n",
       "\t<dt>a</dt>\n",
       "\t\t<dd>8</dd>\n",
       "</dl>\n"
      ],
      "text/latex": [
       "\\begin{description*}\n",
       "\\item[f] 1\n",
       "\\item[a] 8\n",
       "\\end{description*}\n"
      ],
      "text/markdown": [
       "f\n",
       ":   1a\n",
       ":   8\n",
       "\n"
      ],
      "text/plain": [
       "f a \n",
       "1 8 "
      ]
     },
     "metadata": {},
     "output_type": "display_data"
    }
   ],
   "source": [
    "cont[c(\"f\",\"a\")]"
   ]
  },
  {
   "cell_type": "code",
   "execution_count": 124,
   "metadata": {},
   "outputs": [
    {
     "name": "stdout",
     "output_type": "stream",
     "text": [
      "     [,1] [,2] [,3]\n",
      "[1,]    1    4    7\n",
      "[2,]    2    5    8\n",
      "[3,]    3    6    9\n"
     ]
    }
   ],
   "source": [
    "mat<-matrix(1:9,nrow=3)\n",
    "print(mat)"
   ]
  },
  {
   "cell_type": "code",
   "execution_count": 127,
   "metadata": {
    "scrolled": true
   },
   "outputs": [
    {
     "data": {
      "text/html": [
       "<ol class=list-inline>\n",
       "\t<li>7</li>\n",
       "\t<li>8</li>\n",
       "\t<li>9</li>\n",
       "</ol>\n"
      ],
      "text/latex": [
       "\\begin{enumerate*}\n",
       "\\item 7\n",
       "\\item 8\n",
       "\\item 9\n",
       "\\end{enumerate*}\n"
      ],
      "text/markdown": [
       "1. 7\n",
       "2. 8\n",
       "3. 9\n",
       "\n",
       "\n"
      ],
      "text/plain": [
       "[1] 7 8 9"
      ]
     },
     "metadata": {},
     "output_type": "display_data"
    }
   ],
   "source": [
    "mat[,3]"
   ]
  },
  {
   "cell_type": "code",
   "execution_count": 143,
   "metadata": {},
   "outputs": [
    {
     "data": {
      "text/html": [
       "<table>\n",
       "<thead><tr><th></th><th scope=col>a</th><th scope=col>b</th><th scope=col>c</th></tr></thead>\n",
       "<tbody>\n",
       "\t<tr><th scope=row>x</th><td>1</td><td>4</td><td>7</td></tr>\n",
       "\t<tr><th scope=row>y</th><td>2</td><td>5</td><td>8</td></tr>\n",
       "\t<tr><th scope=row>z</th><td>3</td><td>6</td><td>9</td></tr>\n",
       "</tbody>\n",
       "</table>\n"
      ],
      "text/latex": [
       "\\begin{tabular}{r|lll}\n",
       "  & a & b & c\\\\\n",
       "\\hline\n",
       "\tx & 1 & 4 & 7\\\\\n",
       "\ty & 2 & 5 & 8\\\\\n",
       "\tz & 3 & 6 & 9\\\\\n",
       "\\end{tabular}\n"
      ],
      "text/markdown": [
       "\n",
       "| <!--/--> | a | b | c | \n",
       "|---|---|---|\n",
       "| x | 1 | 4 | 7 | \n",
       "| y | 2 | 5 | 8 | \n",
       "| z | 3 | 6 | 9 | \n",
       "\n",
       "\n"
      ],
      "text/plain": [
       "  a b c\n",
       "x 1 4 7\n",
       "y 2 5 8\n",
       "z 3 6 9"
      ]
     },
     "metadata": {},
     "output_type": "display_data"
    }
   ],
   "source": [
    "colnames(mat)<-letters[1:3]\n",
    "rownames(mat)<-letters[24:26]\n",
    "\n"
   ]
  },
  {
   "cell_type": "code",
   "execution_count": 152,
   "metadata": {
    "scrolled": false
   },
   "outputs": [
    {
     "data": {
      "text/html": [
       "7"
      ],
      "text/latex": [
       "7"
      ],
      "text/markdown": [
       "7"
      ],
      "text/plain": [
       "[1] 7"
      ]
     },
     "metadata": {},
     "output_type": "display_data"
    },
    {
     "data": {
      "text/html": [
       "<dl class=dl-horizontal>\n",
       "\t<dt>x</dt>\n",
       "\t\t<dd>7</dd>\n",
       "\t<dt>y</dt>\n",
       "\t\t<dd>8</dd>\n",
       "\t<dt>z</dt>\n",
       "\t\t<dd>9</dd>\n",
       "</dl>\n"
      ],
      "text/latex": [
       "\\begin{description*}\n",
       "\\item[x] 7\n",
       "\\item[y] 8\n",
       "\\item[z] 9\n",
       "\\end{description*}\n"
      ],
      "text/markdown": [
       "x\n",
       ":   7y\n",
       ":   8z\n",
       ":   9\n",
       "\n"
      ],
      "text/plain": [
       "x y z \n",
       "7 8 9 "
      ]
     },
     "metadata": {},
     "output_type": "display_data"
    }
   ],
   "source": [
    "l <- list(c(3,8,7,4),mat,5:0)\n",
    "l[[1]][3]\n",
    "l[[2]][,\"c\"]"
   ]
  },
  {
   "cell_type": "code",
   "execution_count": 154,
   "metadata": {},
   "outputs": [
    {
     "name": "stdout",
     "output_type": "stream",
     "text": [
      "$vetor1\n",
      "[1] 3 8 7 4\n",
      "\n",
      "$mat\n",
      "  a b c\n",
      "x 1 4 7\n",
      "y 2 5 8\n",
      "z 3 6 9\n",
      "\n",
      "$vetor2\n",
      "[1] 5 4 3 2 1 0\n",
      "\n"
     ]
    }
   ],
   "source": [
    "l<-list(vetor1=c(3,8,7,4),mat=mat,vetor2=5:0)\n",
    "print(l)"
   ]
  },
  {
   "cell_type": "code",
   "execution_count": 158,
   "metadata": {},
   "outputs": [
    {
     "data": {
      "text/html": [
       "<table>\n",
       "<thead><tr><th></th><th scope=col>a</th><th scope=col>b</th><th scope=col>c</th></tr></thead>\n",
       "<tbody>\n",
       "\t<tr><th scope=row>x</th><td>1</td><td>4</td><td>7</td></tr>\n",
       "\t<tr><th scope=row>y</th><td>2</td><td>5</td><td>8</td></tr>\n",
       "\t<tr><th scope=row>z</th><td>3</td><td>6</td><td>9</td></tr>\n",
       "</tbody>\n",
       "</table>\n"
      ],
      "text/latex": [
       "\\begin{tabular}{r|lll}\n",
       "  & a & b & c\\\\\n",
       "\\hline\n",
       "\tx & 1 & 4 & 7\\\\\n",
       "\ty & 2 & 5 & 8\\\\\n",
       "\tz & 3 & 6 & 9\\\\\n",
       "\\end{tabular}\n"
      ],
      "text/markdown": [
       "\n",
       "| <!--/--> | a | b | c | \n",
       "|---|---|---|\n",
       "| x | 1 | 4 | 7 | \n",
       "| y | 2 | 5 | 8 | \n",
       "| z | 3 | 6 | 9 | \n",
       "\n",
       "\n"
      ],
      "text/plain": [
       "  a b c\n",
       "x 1 4 7\n",
       "y 2 5 8\n",
       "z 3 6 9"
      ]
     },
     "metadata": {},
     "output_type": "display_data"
    }
   ],
   "source": [
    "l$mat"
   ]
  },
  {
   "cell_type": "code",
   "execution_count": 174,
   "metadata": {},
   "outputs": [
    {
     "data": {
      "text/html": [
       "<table>\n",
       "<thead><tr><th scope=col>A</th><th scope=col>B</th></tr></thead>\n",
       "<tbody>\n",
       "\t<tr><td>4 </td><td> 2</td></tr>\n",
       "\t<tr><td>3 </td><td>NA</td></tr>\n",
       "\t<tr><td>2 </td><td> 5</td></tr>\n",
       "\t<tr><td>1 </td><td> 8</td></tr>\n",
       "\t<tr><td>0 </td><td>NA</td></tr>\n",
       "</tbody>\n",
       "</table>\n"
      ],
      "text/latex": [
       "\\begin{tabular}{r|ll}\n",
       " A & B\\\\\n",
       "\\hline\n",
       "\t 4  &  2\\\\\n",
       "\t 3  & NA\\\\\n",
       "\t 2  &  5\\\\\n",
       "\t 1  &  8\\\\\n",
       "\t 0  & NA\\\\\n",
       "\\end{tabular}\n"
      ],
      "text/markdown": [
       "\n",
       "A | B | \n",
       "|---|---|---|---|---|\n",
       "| 4  |  2 | \n",
       "| 3  | NA | \n",
       "| 2  |  5 | \n",
       "| 1  |  8 | \n",
       "| 0  | NA | \n",
       "\n",
       "\n"
      ],
      "text/plain": [
       "  A B \n",
       "1 4  2\n",
       "2 3 NA\n",
       "3 2  5\n",
       "4 1  8\n",
       "5 0 NA"
      ]
     },
     "metadata": {},
     "output_type": "display_data"
    },
    {
     "data": {
      "text/html": [
       "<ol class=list-inline>\n",
       "\t<li>4</li>\n",
       "\t<li>3</li>\n",
       "\t<li>2</li>\n",
       "\t<li>1</li>\n",
       "\t<li>0</li>\n",
       "</ol>\n"
      ],
      "text/latex": [
       "\\begin{enumerate*}\n",
       "\\item 4\n",
       "\\item 3\n",
       "\\item 2\n",
       "\\item 1\n",
       "\\item 0\n",
       "\\end{enumerate*}\n"
      ],
      "text/markdown": [
       "1. 4\n",
       "2. 3\n",
       "3. 2\n",
       "4. 1\n",
       "5. 0\n",
       "\n",
       "\n"
      ],
      "text/plain": [
       "[1] 4 3 2 1 0"
      ]
     },
     "metadata": {},
     "output_type": "display_data"
    },
    {
     "data": {
      "text/html": [
       "<table>\n",
       "<thead><tr><th></th><th scope=col>A</th><th scope=col>B</th></tr></thead>\n",
       "<tbody>\n",
       "\t<tr><th scope=row>2</th><td>3 </td><td>NA</td></tr>\n",
       "\t<tr><th scope=row>5</th><td>0 </td><td>NA</td></tr>\n",
       "</tbody>\n",
       "</table>\n"
      ],
      "text/latex": [
       "\\begin{tabular}{r|ll}\n",
       "  & A & B\\\\\n",
       "\\hline\n",
       "\t2 & 3  & NA\\\\\n",
       "\t5 & 0  & NA\\\\\n",
       "\\end{tabular}\n"
      ],
      "text/markdown": [
       "\n",
       "| <!--/--> | A | B | \n",
       "|---|---|\n",
       "| 2 | 3  | NA | \n",
       "| 5 | 0  | NA | \n",
       "\n",
       "\n"
      ],
      "text/plain": [
       "  A B \n",
       "2 3 NA\n",
       "5 0 NA"
      ]
     },
     "metadata": {},
     "output_type": "display_data"
    }
   ],
   "source": [
    "da <- data.frame(A=4:0,B=c(2,NA,5,8,NA))\n",
    "da\n",
    "da$A\n",
    "\n",
    "da[is.na(da$B),]"
   ]
  },
  {
   "cell_type": "code",
   "execution_count": 176,
   "metadata": {},
   "outputs": [
    {
     "data": {
      "text/html": [
       "<ol class=list-inline>\n",
       "\t<li>4</li>\n",
       "\t<li>3</li>\n",
       "\t<li>2</li>\n",
       "\t<li>1</li>\n",
       "\t<li>0</li>\n",
       "</ol>\n"
      ],
      "text/latex": [
       "\\begin{enumerate*}\n",
       "\\item 4\n",
       "\\item 3\n",
       "\\item 2\n",
       "\\item 1\n",
       "\\item 0\n",
       "\\end{enumerate*}\n"
      ],
      "text/markdown": [
       "1. 4\n",
       "2. 3\n",
       "3. 2\n",
       "4. 1\n",
       "5. 0\n",
       "\n",
       "\n"
      ],
      "text/plain": [
       "[1] 4 3 2 1 0"
      ]
     },
     "metadata": {},
     "output_type": "display_data"
    }
   ],
   "source": [
    "with(da,A)"
   ]
  },
  {
   "cell_type": "code",
   "execution_count": 177,
   "metadata": {},
   "outputs": [],
   "source": [
    "?with"
   ]
  },
  {
   "cell_type": "markdown",
   "metadata": {},
   "source": []
  },
  {
   "cell_type": "code",
   "execution_count": 181,
   "metadata": {},
   "outputs": [],
   "source": [
    "library(ggplot2)\n",
    "library(grid)\n",
    "esaligna <- read.csv(\"http://ecologia.ib.usp.br/bie5782/lib/exe/fetch.php?media=dados:esaligna.csv\")"
   ]
  },
  {
   "cell_type": "code",
   "execution_count": 193,
   "metadata": {},
   "outputs": [
    {
     "data": {},
     "metadata": {},
     "output_type": "display_data"
    },
    {
     "data": {
      "image/png": "[encoded data removed]",
      "text/plain": [
       "plot without title"
      ]
     },
     "metadata": {},
     "output_type": "display_data"
    }
   ],
   "source": [
    "p <- ggplot(esaligna, aes(x = dap, y = ht)) + \n",
    "  geom_point() +\n",
    "  xlab(\"diâmetro na altura do peito (cm)\") +\n",
    "  ylab(\"altura do tronco (m)\")\n",
    "p"
   ]
  },
  {
   "cell_type": "code",
   "execution_count": 194,
   "metadata": {},
   "outputs": [
    {
     "data": {},
     "metadata": {},
     "output_type": "display_data"
    },
    {
     "data": {
      "image/png": "[encoded data removed]",
      "text/plain": [
       "plot without title"
      ]
     },
     "metadata": {},
     "output_type": "display_data"
    }
   ],
   "source": [
    "p <- p + labs(title = \"relação entre dap e altura do tronco\")\n",
    "\n",
    "p"
   ]
  },
  {
   "cell_type": "code",
   "execution_count": 200,
   "metadata": {},
   "outputs": [
    {
     "data": {
      "text/html": [
       "<table>\n",
       "<thead><tr><th></th><th scope=col>talhao</th><th scope=col>media</th><th scope=col>sd</th></tr></thead>\n",
       "<tbody>\n",
       "\t<tr><th scope=row>16</th><td>16      </td><td>10.36667</td><td>3.733452</td></tr>\n",
       "\t<tr><th scope=row>17</th><td>17      </td><td>12.98571</td><td>6.023960</td></tr>\n",
       "\t<tr><th scope=row>18</th><td>18      </td><td>11.63333</td><td>4.266536</td></tr>\n",
       "\t<tr><th scope=row>22</th><td>22      </td><td>15.38000</td><td>5.483794</td></tr>\n",
       "\t<tr><th scope=row>23</th><td>23      </td><td>13.58750</td><td>5.154315</td></tr>\n",
       "\t<tr><th scope=row>32</th><td>32      </td><td>13.15000</td><td>6.285499</td></tr>\n",
       "</tbody>\n",
       "</table>\n"
      ],
      "text/latex": [
       "\\begin{tabular}{r|lll}\n",
       "  & talhao & media & sd\\\\\n",
       "\\hline\n",
       "\t16 & 16       & 10.36667 & 3.733452\\\\\n",
       "\t17 & 17       & 12.98571 & 6.023960\\\\\n",
       "\t18 & 18       & 11.63333 & 4.266536\\\\\n",
       "\t22 & 22       & 15.38000 & 5.483794\\\\\n",
       "\t23 & 23       & 13.58750 & 5.154315\\\\\n",
       "\t32 & 32       & 13.15000 & 6.285499\\\\\n",
       "\\end{tabular}\n"
      ],
      "text/markdown": [
       "\n",
       "| <!--/--> | talhao | media | sd | \n",
       "|---|---|---|---|---|---|\n",
       "| 16 | 16       | 10.36667 | 3.733452 | \n",
       "| 17 | 17       | 12.98571 | 6.023960 | \n",
       "| 18 | 18       | 11.63333 | 4.266536 | \n",
       "| 22 | 22       | 15.38000 | 5.483794 | \n",
       "| 23 | 23       | 13.58750 | 5.154315 | \n",
       "| 32 | 32       | 13.15000 | 6.285499 | \n",
       "\n",
       "\n"
      ],
      "text/plain": [
       "   talhao media    sd      \n",
       "16 16     10.36667 3.733452\n",
       "17 17     12.98571 6.023960\n",
       "18 18     11.63333 4.266536\n",
       "22 22     15.38000 5.483794\n",
       "23 23     13.58750 5.154315\n",
       "32 32     13.15000 6.285499"
      ]
     },
     "metadata": {},
     "output_type": "display_data"
    },
    {
     "data": {},
     "metadata": {},
     "output_type": "display_data"
    },
    {
     "data": {
      "image/png": "[encoded data removed]",
      "text/plain": [
       "plot without title"
      ]
     },
     "metadata": {},
     "output_type": "display_data"
    }
   ],
   "source": [
    "dat_por_talhao <- data.frame(talhao = sort(unique(esaligna$talhao)), \n",
    "                             media = with(esaligna, tapply(dap, talhao, mean)), \n",
    "                             sd = with(esaligna, tapply(dap, talhao, sd)))\n",
    "\n",
    "dat_por_talhao\n",
    "\n",
    "p_media_desvio <- ggplot(dat_por_talhao, aes(factor(talhao), media)) + \n",
    "  geom_point(stat = \"identity\", size = 5) + \n",
    "  geom_errorbar(aes(ymin = media - sd, ymax =  media + sd), width = 0.5) +\n",
    "  xlab(\"talhao\")\n",
    "\n",
    "p_media_desvio"
   ]
  },
  {
   "cell_type": "code",
   "execution_count": 201,
   "metadata": {},
   "outputs": [
    {
     "data": {
      "text/html": [
       "<table>\n",
       "<thead><tr><th scope=col>Type</th><th scope=col>Alcohol</th><th scope=col>Malic</th><th scope=col>Ash</th><th scope=col>Alcalinity</th><th scope=col>Magnesium</th><th scope=col>Phenols</th><th scope=col>Flavanoids</th><th scope=col>Nonflavanoids</th><th scope=col>Proanthocyanins</th><th scope=col>Color</th><th scope=col>Hue</th><th scope=col>Dilution</th><th scope=col>Proline</th></tr></thead>\n",
       "<tbody>\n",
       "\t<tr><td>1    </td><td>14.23</td><td>1.71 </td><td>2.43 </td><td>15.6 </td><td>127  </td><td>2.80 </td><td>3.06 </td><td>0.28 </td><td>2.29 </td><td>5.64 </td><td>1.04 </td><td>3.92 </td><td>1065 </td></tr>\n",
       "\t<tr><td>1    </td><td>13.20</td><td>1.78 </td><td>2.14 </td><td>11.2 </td><td>100  </td><td>2.65 </td><td>2.76 </td><td>0.26 </td><td>1.28 </td><td>4.38 </td><td>1.05 </td><td>3.40 </td><td>1050 </td></tr>\n",
       "\t<tr><td>1    </td><td>13.16</td><td>2.36 </td><td>2.67 </td><td>18.6 </td><td>101  </td><td>2.80 </td><td>3.24 </td><td>0.30 </td><td>2.81 </td><td>5.68 </td><td>1.03 </td><td>3.17 </td><td>1185 </td></tr>\n",
       "\t<tr><td>1    </td><td>14.37</td><td>1.95 </td><td>2.50 </td><td>16.8 </td><td>113  </td><td>3.85 </td><td>3.49 </td><td>0.24 </td><td>2.18 </td><td>7.80 </td><td>0.86 </td><td>3.45 </td><td>1480 </td></tr>\n",
       "\t<tr><td>1    </td><td>13.24</td><td>2.59 </td><td>2.87 </td><td>21.0 </td><td>118  </td><td>2.80 </td><td>2.69 </td><td>0.39 </td><td>1.82 </td><td>4.32 </td><td>1.04 </td><td>2.93 </td><td> 735 </td></tr>\n",
       "\t<tr><td>1    </td><td>14.20</td><td>1.76 </td><td>2.45 </td><td>15.2 </td><td>112  </td><td>3.27 </td><td>3.39 </td><td>0.34 </td><td>1.97 </td><td>6.75 </td><td>1.05 </td><td>2.85 </td><td>1450 </td></tr>\n",
       "</tbody>\n",
       "</table>\n"
      ],
      "text/latex": [
       "\\begin{tabular}{r|llllllllllllll}\n",
       " Type & Alcohol & Malic & Ash & Alcalinity & Magnesium & Phenols & Flavanoids & Nonflavanoids & Proanthocyanins & Color & Hue & Dilution & Proline\\\\\n",
       "\\hline\n",
       "\t 1     & 14.23 & 1.71  & 2.43  & 15.6  & 127   & 2.80  & 3.06  & 0.28  & 2.29  & 5.64  & 1.04  & 3.92  & 1065 \\\\\n",
       "\t 1     & 13.20 & 1.78  & 2.14  & 11.2  & 100   & 2.65  & 2.76  & 0.26  & 1.28  & 4.38  & 1.05  & 3.40  & 1050 \\\\\n",
       "\t 1     & 13.16 & 2.36  & 2.67  & 18.6  & 101   & 2.80  & 3.24  & 0.30  & 2.81  & 5.68  & 1.03  & 3.17  & 1185 \\\\\n",
       "\t 1     & 14.37 & 1.95  & 2.50  & 16.8  & 113   & 3.85  & 3.49  & 0.24  & 2.18  & 7.80  & 0.86  & 3.45  & 1480 \\\\\n",
       "\t 1     & 13.24 & 2.59  & 2.87  & 21.0  & 118   & 2.80  & 2.69  & 0.39  & 1.82  & 4.32  & 1.04  & 2.93  &  735 \\\\\n",
       "\t 1     & 14.20 & 1.76  & 2.45  & 15.2  & 112   & 3.27  & 3.39  & 0.34  & 1.97  & 6.75  & 1.05  & 2.85  & 1450 \\\\\n",
       "\\end{tabular}\n"
      ],
      "text/markdown": [
       "\n",
       "Type | Alcohol | Malic | Ash | Alcalinity | Magnesium | Phenols | Flavanoids | Nonflavanoids | Proanthocyanins | Color | Hue | Dilution | Proline | \n",
       "|---|---|---|---|---|---|\n",
       "| 1     | 14.23 | 1.71  | 2.43  | 15.6  | 127   | 2.80  | 3.06  | 0.28  | 2.29  | 5.64  | 1.04  | 3.92  | 1065  | \n",
       "| 1     | 13.20 | 1.78  | 2.14  | 11.2  | 100   | 2.65  | 2.76  | 0.26  | 1.28  | 4.38  | 1.05  | 3.40  | 1050  | \n",
       "| 1     | 13.16 | 2.36  | 2.67  | 18.6  | 101   | 2.80  | 3.24  | 0.30  | 2.81  | 5.68  | 1.03  | 3.17  | 1185  | \n",
       "| 1     | 14.37 | 1.95  | 2.50  | 16.8  | 113   | 3.85  | 3.49  | 0.24  | 2.18  | 7.80  | 0.86  | 3.45  | 1480  | \n",
       "| 1     | 13.24 | 2.59  | 2.87  | 21.0  | 118   | 2.80  | 2.69  | 0.39  | 1.82  | 4.32  | 1.04  | 2.93  |  735  | \n",
       "| 1     | 14.20 | 1.76  | 2.45  | 15.2  | 112   | 3.27  | 3.39  | 0.34  | 1.97  | 6.75  | 1.05  | 2.85  | 1450  | \n",
       "\n",
       "\n"
      ],
      "text/plain": [
       "  Type Alcohol Malic Ash  Alcalinity Magnesium Phenols Flavanoids Nonflavanoids\n",
       "1 1    14.23   1.71  2.43 15.6       127       2.80    3.06       0.28         \n",
       "2 1    13.20   1.78  2.14 11.2       100       2.65    2.76       0.26         \n",
       "3 1    13.16   2.36  2.67 18.6       101       2.80    3.24       0.30         \n",
       "4 1    14.37   1.95  2.50 16.8       113       3.85    3.49       0.24         \n",
       "5 1    13.24   2.59  2.87 21.0       118       2.80    2.69       0.39         \n",
       "6 1    14.20   1.76  2.45 15.2       112       3.27    3.39       0.34         \n",
       "  Proanthocyanins Color Hue  Dilution Proline\n",
       "1 2.29            5.64  1.04 3.92     1065   \n",
       "2 1.28            4.38  1.05 3.40     1050   \n",
       "3 2.81            5.68  1.03 3.17     1185   \n",
       "4 2.18            7.80  0.86 3.45     1480   \n",
       "5 1.82            4.32  1.04 2.93      735   \n",
       "6 1.97            6.75  1.05 2.85     1450   "
      ]
     },
     "metadata": {},
     "output_type": "display_data"
    }
   ],
   "source": [
    "data(wine, package='rattle')\n",
    "head(wine)"
   ]
  },
  {
   "cell_type": "code",
   "execution_count": 202,
   "metadata": {},
   "outputs": [],
   "source": [
    "wine.stand <- scale(wine[-1]) "
   ]
  },
  {
   "cell_type": "code",
   "execution_count": 203,
   "metadata": {},
   "outputs": [],
   "source": [
    "k.means.fit <- kmeans(wine.stand, 3)"
   ]
  },
  {
   "cell_type": "code",
   "execution_count": 204,
   "metadata": {},
   "outputs": [
    {
     "data": {
      "text/html": [
       "<dl>\n",
       "\t<dt>$names</dt>\n",
       "\t\t<dd><ol class=list-inline>\n",
       "\t<li>'cluster'</li>\n",
       "\t<li>'centers'</li>\n",
       "\t<li>'totss'</li>\n",
       "\t<li>'withinss'</li>\n",
       "\t<li>'tot.withinss'</li>\n",
       "\t<li>'betweenss'</li>\n",
       "\t<li>'size'</li>\n",
       "\t<li>'iter'</li>\n",
       "\t<li>'ifault'</li>\n",
       "</ol>\n",
       "</dd>\n",
       "\t<dt>$class</dt>\n",
       "\t\t<dd>'kmeans'</dd>\n",
       "</dl>\n"
      ],
      "text/latex": [
       "\\begin{description}\n",
       "\\item[\\$names] \\begin{enumerate*}\n",
       "\\item 'cluster'\n",
       "\\item 'centers'\n",
       "\\item 'totss'\n",
       "\\item 'withinss'\n",
       "\\item 'tot.withinss'\n",
       "\\item 'betweenss'\n",
       "\\item 'size'\n",
       "\\item 'iter'\n",
       "\\item 'ifault'\n",
       "\\end{enumerate*}\n",
       "\n",
       "\\item[\\$class] 'kmeans'\n",
       "\\end{description}\n"
      ],
      "text/markdown": [
       "$names\n",
       ":   1. 'cluster'\n",
       "2. 'centers'\n",
       "3. 'totss'\n",
       "4. 'withinss'\n",
       "5. 'tot.withinss'\n",
       "6. 'betweenss'\n",
       "7. 'size'\n",
       "8. 'iter'\n",
       "9. 'ifault'\n",
       "\n",
       "\n",
       "\n",
       "$class\n",
       ":   'kmeans'\n",
       "\n",
       "\n"
      ],
      "text/plain": [
       "$names\n",
       "[1] \"cluster\"      \"centers\"      \"totss\"        \"withinss\"     \"tot.withinss\"\n",
       "[6] \"betweenss\"    \"size\"         \"iter\"         \"ifault\"      \n",
       "\n",
       "$class\n",
       "[1] \"kmeans\"\n"
      ]
     },
     "metadata": {},
     "output_type": "display_data"
    }
   ],
   "source": [
    "attributes(k.means.fit)"
   ]
  },
  {
   "cell_type": "code",
   "execution_count": 205,
   "metadata": {},
   "outputs": [
    {
     "data": {
      "text/html": [
       "<table>\n",
       "<thead><tr><th></th><th scope=col>Alcohol</th><th scope=col>Malic</th><th scope=col>Ash</th><th scope=col>Alcalinity</th><th scope=col>Magnesium</th><th scope=col>Phenols</th><th scope=col>Flavanoids</th><th scope=col>Nonflavanoids</th><th scope=col>Proanthocyanins</th><th scope=col>Color</th><th scope=col>Hue</th><th scope=col>Dilution</th><th scope=col>Proline</th></tr></thead>\n",
       "<tbody>\n",
       "\t<tr><th scope=row>1</th><td> 0.8328826 </td><td>-0.3029551 </td><td> 0.3636801 </td><td>-0.6084749 </td><td> 0.57596208</td><td> 0.88274724</td><td> 0.97506900</td><td>-0.56050853</td><td> 0.57865427</td><td> 0.1705823 </td><td> 0.4726504 </td><td> 0.7770551 </td><td> 1.1220202 </td></tr>\n",
       "\t<tr><th scope=row>2</th><td> 0.1644436 </td><td> 0.8690954 </td><td> 0.1863726 </td><td> 0.5228924 </td><td>-0.07526047</td><td>-0.97657548</td><td>-1.21182921</td><td> 0.72402116</td><td>-0.77751312</td><td> 0.9388902 </td><td>-1.1615122 </td><td>-1.2887761 </td><td>-0.4059428 </td></tr>\n",
       "\t<tr><th scope=row>3</th><td>-0.9234669 </td><td>-0.3929331 </td><td>-0.4931257 </td><td> 0.1701220 </td><td>-0.49032869</td><td>-0.07576891</td><td> 0.02075402</td><td>-0.03343924</td><td> 0.05810161</td><td>-0.8993770 </td><td> 0.4605046 </td><td> 0.2700025 </td><td>-0.7517257 </td></tr>\n",
       "</tbody>\n",
       "</table>\n"
      ],
      "text/latex": [
       "\\begin{tabular}{r|lllllllllllll}\n",
       "  & Alcohol & Malic & Ash & Alcalinity & Magnesium & Phenols & Flavanoids & Nonflavanoids & Proanthocyanins & Color & Hue & Dilution & Proline\\\\\n",
       "\\hline\n",
       "\t1 &  0.8328826  & -0.3029551  &  0.3636801  & -0.6084749  &  0.57596208 &  0.88274724 &  0.97506900 & -0.56050853 &  0.57865427 &  0.1705823  &  0.4726504  &  0.7770551  &  1.1220202 \\\\\n",
       "\t2 &  0.1644436  &  0.8690954  &  0.1863726  &  0.5228924  & -0.07526047 & -0.97657548 & -1.21182921 &  0.72402116 & -0.77751312 &  0.9388902  & -1.1615122  & -1.2887761  & -0.4059428 \\\\\n",
       "\t3 & -0.9234669  & -0.3929331  & -0.4931257  &  0.1701220  & -0.49032869 & -0.07576891 &  0.02075402 & -0.03343924 &  0.05810161 & -0.8993770  &  0.4605046  &  0.2700025  & -0.7517257 \\\\\n",
       "\\end{tabular}\n"
      ],
      "text/markdown": [
       "\n",
       "| <!--/--> | Alcohol | Malic | Ash | Alcalinity | Magnesium | Phenols | Flavanoids | Nonflavanoids | Proanthocyanins | Color | Hue | Dilution | Proline | \n",
       "|---|---|---|\n",
       "| 1 |  0.8328826  | -0.3029551  |  0.3636801  | -0.6084749  |  0.57596208 |  0.88274724 |  0.97506900 | -0.56050853 |  0.57865427 |  0.1705823  |  0.4726504  |  0.7770551  |  1.1220202  | \n",
       "| 2 |  0.1644436  |  0.8690954  |  0.1863726  |  0.5228924  | -0.07526047 | -0.97657548 | -1.21182921 |  0.72402116 | -0.77751312 |  0.9388902  | -1.1615122  | -1.2887761  | -0.4059428  | \n",
       "| 3 | -0.9234669  | -0.3929331  | -0.4931257  |  0.1701220  | -0.49032869 | -0.07576891 |  0.02075402 | -0.03343924 |  0.05810161 | -0.8993770  |  0.4605046  |  0.2700025  | -0.7517257  | \n",
       "\n",
       "\n"
      ],
      "text/plain": [
       "  Alcohol    Malic      Ash        Alcalinity Magnesium   Phenols    \n",
       "1  0.8328826 -0.3029551  0.3636801 -0.6084749  0.57596208  0.88274724\n",
       "2  0.1644436  0.8690954  0.1863726  0.5228924 -0.07526047 -0.97657548\n",
       "3 -0.9234669 -0.3929331 -0.4931257  0.1701220 -0.49032869 -0.07576891\n",
       "  Flavanoids  Nonflavanoids Proanthocyanins Color      Hue        Dilution  \n",
       "1  0.97506900 -0.56050853    0.57865427      0.1705823  0.4726504  0.7770551\n",
       "2 -1.21182921  0.72402116   -0.77751312      0.9388902 -1.1615122 -1.2887761\n",
       "3  0.02075402 -0.03343924    0.05810161     -0.8993770  0.4605046  0.2700025\n",
       "  Proline   \n",
       "1  1.1220202\n",
       "2 -0.4059428\n",
       "3 -0.7517257"
      ]
     },
     "metadata": {},
     "output_type": "display_data"
    }
   ],
   "source": [
    "k.means.fit$centers"
   ]
  },
  {
   "cell_type": "code",
   "execution_count": 206,
   "metadata": {},
   "outputs": [
    {
     "data": {
      "text/html": [
       "<ol class=list-inline>\n",
       "\t<li>62</li>\n",
       "\t<li>51</li>\n",
       "\t<li>65</li>\n",
       "</ol>\n"
      ],
      "text/latex": [
       "\\begin{enumerate*}\n",
       "\\item 62\n",
       "\\item 51\n",
       "\\item 65\n",
       "\\end{enumerate*}\n"
      ],
      "text/markdown": [
       "1. 62\n",
       "2. 51\n",
       "3. 65\n",
       "\n",
       "\n"
      ],
      "text/plain": [
       "[1] 62 51 65"
      ]
     },
     "metadata": {},
     "output_type": "display_data"
    }
   ],
   "source": [
    "k.means.fit$size"
   ]
  },
  {
   "cell_type": "code",
   "execution_count": 207,
   "metadata": {},
   "outputs": [
    {
     "data": {
      "image/png": "[encoded data removed]",
      "text/plain": [
       "Plot with title \"2D representation of the Cluster solution\""
      ]
     },
     "metadata": {},
     "output_type": "display_data"
    }
   ],
   "source": [
    "library(cluster)\n",
    "clusplot(wine.stand, k.means.fit$cluster, main='2D representation of the Cluster solution',\n",
    "         color=TRUE, shade=TRUE,\n",
    "         labels=2, lines=0)"
   ]
  },
  {
   "cell_type": "code",
   "execution_count": 208,
   "metadata": {},
   "outputs": [
    {
     "data": {
      "text/html": [
       "<table>\n",
       "<thead><tr><th scope=col>Country</th><th scope=col>RedMeat</th><th scope=col>WhiteMeat</th><th scope=col>Eggs</th><th scope=col>Milk</th><th scope=col>Fish</th><th scope=col>Cereals</th><th scope=col>Starch</th><th scope=col>Nuts</th><th scope=col>Fr.Veg</th></tr></thead>\n",
       "<tbody>\n",
       "\t<tr><td>Albania       </td><td>10.1          </td><td> 1.4          </td><td>0.5           </td><td> 8.9          </td><td>0.2           </td><td>42.3          </td><td>0.6           </td><td>5.5           </td><td>1.7           </td></tr>\n",
       "\t<tr><td>Austria       </td><td> 8.9          </td><td>14.0          </td><td>4.3           </td><td>19.9          </td><td>2.1           </td><td>28.0          </td><td>3.6           </td><td>1.3           </td><td>4.3           </td></tr>\n",
       "\t<tr><td>Belgium       </td><td>13.5          </td><td> 9.3          </td><td>4.1           </td><td>17.5          </td><td>4.5           </td><td>26.6          </td><td>5.7           </td><td>2.1           </td><td>4.0           </td></tr>\n",
       "\t<tr><td>Bulgaria      </td><td> 7.8          </td><td> 6.0          </td><td>1.6           </td><td> 8.3          </td><td>1.2           </td><td>56.7          </td><td>1.1           </td><td>3.7           </td><td>4.2           </td></tr>\n",
       "\t<tr><td>Czechoslovakia</td><td> 9.7          </td><td>11.4          </td><td>2.8           </td><td>12.5          </td><td>2.0           </td><td>34.3          </td><td>5.0           </td><td>1.1           </td><td>4.0           </td></tr>\n",
       "\t<tr><td>Denmark       </td><td>10.6          </td><td>10.8          </td><td>3.7           </td><td>25.0          </td><td>9.9           </td><td>21.9          </td><td>4.8           </td><td>0.7           </td><td>2.4           </td></tr>\n",
       "</tbody>\n",
       "</table>\n"
      ],
      "text/latex": [
       "\\begin{tabular}{r|llllllllll}\n",
       " Country & RedMeat & WhiteMeat & Eggs & Milk & Fish & Cereals & Starch & Nuts & Fr.Veg\\\\\n",
       "\\hline\n",
       "\t Albania        & 10.1           &  1.4           & 0.5            &  8.9           & 0.2            & 42.3           & 0.6            & 5.5            & 1.7           \\\\\n",
       "\t Austria        &  8.9           & 14.0           & 4.3            & 19.9           & 2.1            & 28.0           & 3.6            & 1.3            & 4.3           \\\\\n",
       "\t Belgium        & 13.5           &  9.3           & 4.1            & 17.5           & 4.5            & 26.6           & 5.7            & 2.1            & 4.0           \\\\\n",
       "\t Bulgaria       &  7.8           &  6.0           & 1.6            &  8.3           & 1.2            & 56.7           & 1.1            & 3.7            & 4.2           \\\\\n",
       "\t Czechoslovakia &  9.7           & 11.4           & 2.8            & 12.5           & 2.0            & 34.3           & 5.0            & 1.1            & 4.0           \\\\\n",
       "\t Denmark        & 10.6           & 10.8           & 3.7            & 25.0           & 9.9            & 21.9           & 4.8            & 0.7            & 2.4           \\\\\n",
       "\\end{tabular}\n"
      ],
      "text/markdown": [
       "\n",
       "Country | RedMeat | WhiteMeat | Eggs | Milk | Fish | Cereals | Starch | Nuts | Fr.Veg | \n",
       "|---|---|---|---|---|---|\n",
       "| Albania        | 10.1           |  1.4           | 0.5            |  8.9           | 0.2            | 42.3           | 0.6            | 5.5            | 1.7            | \n",
       "| Austria        |  8.9           | 14.0           | 4.3            | 19.9           | 2.1            | 28.0           | 3.6            | 1.3            | 4.3            | \n",
       "| Belgium        | 13.5           |  9.3           | 4.1            | 17.5           | 4.5            | 26.6           | 5.7            | 2.1            | 4.0            | \n",
       "| Bulgaria       |  7.8           |  6.0           | 1.6            |  8.3           | 1.2            | 56.7           | 1.1            | 3.7            | 4.2            | \n",
       "| Czechoslovakia |  9.7           | 11.4           | 2.8            | 12.5           | 2.0            | 34.3           | 5.0            | 1.1            | 4.0            | \n",
       "| Denmark        | 10.6           | 10.8           | 3.7            | 25.0           | 9.9            | 21.9           | 4.8            | 0.7            | 2.4            | \n",
       "\n",
       "\n"
      ],
      "text/plain": [
       "  Country        RedMeat WhiteMeat Eggs Milk Fish Cereals Starch Nuts Fr.Veg\n",
       "1 Albania        10.1     1.4      0.5   8.9 0.2  42.3    0.6    5.5  1.7   \n",
       "2 Austria         8.9    14.0      4.3  19.9 2.1  28.0    3.6    1.3  4.3   \n",
       "3 Belgium        13.5     9.3      4.1  17.5 4.5  26.6    5.7    2.1  4.0   \n",
       "4 Bulgaria        7.8     6.0      1.6   8.3 1.2  56.7    1.1    3.7  4.2   \n",
       "5 Czechoslovakia  9.7    11.4      2.8  12.5 2.0  34.3    5.0    1.1  4.0   \n",
       "6 Denmark        10.6    10.8      3.7  25.0 9.9  21.9    4.8    0.7  2.4   "
      ]
     },
     "metadata": {},
     "output_type": "display_data"
    }
   ],
   "source": [
    "url = 'http://www.biz.uiowa.edu/faculty/jledolter/DataMining/protein.csv'\n",
    "food <- read.csv(url)\n",
    "head(food)"
   ]
  },
  {
   "cell_type": "code",
   "execution_count": 211,
   "metadata": {},
   "outputs": [
    {
     "data": {
      "text/plain": [
       "K-means clustering with 3 clusters of sizes 5, 8, 12\n",
       "\n",
       "Cluster means:\n",
       "  WhiteMeat   RedMeat     Fish\n",
       "1  9.000000 15.180000 3.800000\n",
       "2 12.062500  8.837500 3.575000\n",
       "3  4.658333  8.258333 4.958333\n",
       "\n",
       "Clustering vector:\n",
       " [1] 3 2 1 3 2 2 2 3 1 3 2 1 3 2 3 2 3 3 3 3 1 1 3 2 3\n",
       "\n",
       "Within cluster sum of squares by cluster:\n",
       "[1]  44.8280  99.6925 267.6675\n",
       " (between_SS / total_SS =  52.9 %)\n",
       "\n",
       "Available components:\n",
       "\n",
       "[1] \"cluster\"      \"centers\"      \"totss\"        \"withinss\"     \"tot.withinss\"\n",
       "[6] \"betweenss\"    \"size\"         \"iter\"         \"ifault\"      "
      ]
     },
     "metadata": {},
     "output_type": "display_data"
    }
   ],
   "source": [
    "set.seed(123456789) ## to fix the random starting clusters\n",
    "grpMeat <- kmeans(food[,c(\"WhiteMeat\",\"RedMeat\")], centers=3, nstart=10)\n",
    "grpMeat"
   ]
  },
  {
   "cell_type": "code",
   "execution_count": 210,
   "metadata": {},
   "outputs": [
    {
     "data": {
      "text/html": [
       "<table>\n",
       "<thead><tr><th scope=col>food.Country.o.</th><th scope=col>grpMeat.cluster.o.</th></tr></thead>\n",
       "<tbody>\n",
       "\t<tr><td>Austria       </td><td>1             </td></tr>\n",
       "\t<tr><td>Czechoslovakia</td><td>1             </td></tr>\n",
       "\t<tr><td>Denmark       </td><td>1             </td></tr>\n",
       "\t<tr><td>E Germany     </td><td>1             </td></tr>\n",
       "\t<tr><td>Hungary       </td><td>1             </td></tr>\n",
       "\t<tr><td>Netherlands   </td><td>1             </td></tr>\n",
       "\t<tr><td>Poland        </td><td>1             </td></tr>\n",
       "\t<tr><td>W Germany     </td><td>1             </td></tr>\n",
       "\t<tr><td>Albania       </td><td>2             </td></tr>\n",
       "\t<tr><td>Bulgaria      </td><td>2             </td></tr>\n",
       "\t<tr><td>Finland       </td><td>2             </td></tr>\n",
       "\t<tr><td>Greece        </td><td>2             </td></tr>\n",
       "\t<tr><td>Italy         </td><td>2             </td></tr>\n",
       "\t<tr><td>Norway        </td><td>2             </td></tr>\n",
       "\t<tr><td>Portugal      </td><td>2             </td></tr>\n",
       "\t<tr><td>Romania       </td><td>2             </td></tr>\n",
       "\t<tr><td>Spain         </td><td>2             </td></tr>\n",
       "\t<tr><td>Sweden        </td><td>2             </td></tr>\n",
       "\t<tr><td>USSR          </td><td>2             </td></tr>\n",
       "\t<tr><td>Yugoslavia    </td><td>2             </td></tr>\n",
       "\t<tr><td>Belgium       </td><td>3             </td></tr>\n",
       "\t<tr><td>France        </td><td>3             </td></tr>\n",
       "\t<tr><td>Ireland       </td><td>3             </td></tr>\n",
       "\t<tr><td>Switzerland   </td><td>3             </td></tr>\n",
       "\t<tr><td>UK            </td><td>3             </td></tr>\n",
       "</tbody>\n",
       "</table>\n"
      ],
      "text/latex": [
       "\\begin{tabular}{r|ll}\n",
       " food.Country.o. & grpMeat.cluster.o.\\\\\n",
       "\\hline\n",
       "\t Austria        & 1             \\\\\n",
       "\t Czechoslovakia & 1             \\\\\n",
       "\t Denmark        & 1             \\\\\n",
       "\t E Germany      & 1             \\\\\n",
       "\t Hungary        & 1             \\\\\n",
       "\t Netherlands    & 1             \\\\\n",
       "\t Poland         & 1             \\\\\n",
       "\t W Germany      & 1             \\\\\n",
       "\t Albania        & 2             \\\\\n",
       "\t Bulgaria       & 2             \\\\\n",
       "\t Finland        & 2             \\\\\n",
       "\t Greece         & 2             \\\\\n",
       "\t Italy          & 2             \\\\\n",
       "\t Norway         & 2             \\\\\n",
       "\t Portugal       & 2             \\\\\n",
       "\t Romania        & 2             \\\\\n",
       "\t Spain          & 2             \\\\\n",
       "\t Sweden         & 2             \\\\\n",
       "\t USSR           & 2             \\\\\n",
       "\t Yugoslavia     & 2             \\\\\n",
       "\t Belgium        & 3             \\\\\n",
       "\t France         & 3             \\\\\n",
       "\t Ireland        & 3             \\\\\n",
       "\t Switzerland    & 3             \\\\\n",
       "\t UK             & 3             \\\\\n",
       "\\end{tabular}\n"
      ],
      "text/markdown": [
       "\n",
       "food.Country.o. | grpMeat.cluster.o. | \n",
       "|---|---|---|---|---|---|---|---|---|---|---|---|---|---|---|---|---|---|---|---|---|---|---|---|---|\n",
       "| Austria        | 1              | \n",
       "| Czechoslovakia | 1              | \n",
       "| Denmark        | 1              | \n",
       "| E Germany      | 1              | \n",
       "| Hungary        | 1              | \n",
       "| Netherlands    | 1              | \n",
       "| Poland         | 1              | \n",
       "| W Germany      | 1              | \n",
       "| Albania        | 2              | \n",
       "| Bulgaria       | 2              | \n",
       "| Finland        | 2              | \n",
       "| Greece         | 2              | \n",
       "| Italy          | 2              | \n",
       "| Norway         | 2              | \n",
       "| Portugal       | 2              | \n",
       "| Romania        | 2              | \n",
       "| Spain          | 2              | \n",
       "| Sweden         | 2              | \n",
       "| USSR           | 2              | \n",
       "| Yugoslavia     | 2              | \n",
       "| Belgium        | 3              | \n",
       "| France         | 3              | \n",
       "| Ireland        | 3              | \n",
       "| Switzerland    | 3              | \n",
       "| UK             | 3              | \n",
       "\n",
       "\n"
      ],
      "text/plain": [
       "   food.Country.o. grpMeat.cluster.o.\n",
       "1  Austria         1                 \n",
       "2  Czechoslovakia  1                 \n",
       "3  Denmark         1                 \n",
       "4  E Germany       1                 \n",
       "5  Hungary         1                 \n",
       "6  Netherlands     1                 \n",
       "7  Poland          1                 \n",
       "8  W Germany       1                 \n",
       "9  Albania         2                 \n",
       "10 Bulgaria        2                 \n",
       "11 Finland         2                 \n",
       "12 Greece          2                 \n",
       "13 Italy           2                 \n",
       "14 Norway          2                 \n",
       "15 Portugal        2                 \n",
       "16 Romania         2                 \n",
       "17 Spain           2                 \n",
       "18 Sweden          2                 \n",
       "19 USSR            2                 \n",
       "20 Yugoslavia      2                 \n",
       "21 Belgium         3                 \n",
       "22 France          3                 \n",
       "23 Ireland         3                 \n",
       "24 Switzerland     3                 \n",
       "25 UK              3                 "
      ]
     },
     "metadata": {},
     "output_type": "display_data"
    }
   ],
   "source": [
    "o=order(grpMeat$cluster)\n",
    "data.frame(food$Country[o],grpMeat$cluster[o])"
   ]
  },
  {
   "cell_type": "code",
   "execution_count": 212,
   "metadata": {},
   "outputs": [
    {
     "data": {
      "image/png": "[encoded data removed]",
      "text/plain": [
       "plot without title"
      ]
     },
     "metadata": {},
     "output_type": "display_data"
    }
   ],
   "source": [
    "plot(food$Red, food$White, type=\"n\", xlim=c(3,19), xlab=\"Red Meat\", ylab=\"White Meat\")\n",
    "text(x=food$Red, y=food$White, labels=food$Country,col=grpMeat$cluster+1)"
   ]
  },
  {
   "cell_type": "code",
   "execution_count": 214,
   "metadata": {},
   "outputs": [
    {
     "data": {
      "text/html": [
       "<table>\n",
       "<thead><tr><th scope=col>gradyear</th><th scope=col>gender</th><th scope=col>age</th><th scope=col>friends</th><th scope=col>basketball</th><th scope=col>football</th><th scope=col>soccer</th><th scope=col>softball</th><th scope=col>volleyball</th><th scope=col>swimming</th><th scope=col>...</th><th scope=col>blonde</th><th scope=col>mall</th><th scope=col>shopping</th><th scope=col>clothes</th><th scope=col>hollister</th><th scope=col>abercrombie</th><th scope=col>die</th><th scope=col>death</th><th scope=col>drunk</th><th scope=col>drugs</th></tr></thead>\n",
       "<tbody>\n",
       "\t<tr><td>2006  </td><td>M     </td><td>18.982</td><td> 7    </td><td>0     </td><td>0     </td><td>0     </td><td>0     </td><td>0     </td><td>0     </td><td>...   </td><td>0     </td><td>0     </td><td>0     </td><td>0     </td><td>0     </td><td>0     </td><td>0     </td><td>0     </td><td>0     </td><td>0     </td></tr>\n",
       "\t<tr><td>2006  </td><td>F     </td><td>18.801</td><td> 0    </td><td>0     </td><td>1     </td><td>0     </td><td>0     </td><td>0     </td><td>0     </td><td>...   </td><td>0     </td><td>1     </td><td>0     </td><td>0     </td><td>0     </td><td>0     </td><td>0     </td><td>0     </td><td>0     </td><td>0     </td></tr>\n",
       "\t<tr><td>2006  </td><td>M     </td><td>18.335</td><td>69    </td><td>0     </td><td>1     </td><td>0     </td><td>0     </td><td>0     </td><td>0     </td><td>...   </td><td>0     </td><td>0     </td><td>0     </td><td>0     </td><td>0     </td><td>0     </td><td>0     </td><td>1     </td><td>0     </td><td>0     </td></tr>\n",
       "</tbody>\n",
       "</table>\n"
      ],
      "text/latex": [
       "\\begin{tabular}{r|llllllllllllllllllllllllllllllllllllllll}\n",
       " gradyear & gender & age & friends & basketball & football & soccer & softball & volleyball & swimming & ... & blonde & mall & shopping & clothes & hollister & abercrombie & die & death & drunk & drugs\\\\\n",
       "\\hline\n",
       "\t 2006   & M      & 18.982 &  7     & 0      & 0      & 0      & 0      & 0      & 0      & ...    & 0      & 0      & 0      & 0      & 0      & 0      & 0      & 0      & 0      & 0     \\\\\n",
       "\t 2006   & F      & 18.801 &  0     & 0      & 1      & 0      & 0      & 0      & 0      & ...    & 0      & 1      & 0      & 0      & 0      & 0      & 0      & 0      & 0      & 0     \\\\\n",
       "\t 2006   & M      & 18.335 & 69     & 0      & 1      & 0      & 0      & 0      & 0      & ...    & 0      & 0      & 0      & 0      & 0      & 0      & 0      & 1      & 0      & 0     \\\\\n",
       "\\end{tabular}\n"
      ],
      "text/markdown": [
       "\n",
       "gradyear | gender | age | friends | basketball | football | soccer | softball | volleyball | swimming | ... | blonde | mall | shopping | clothes | hollister | abercrombie | die | death | drunk | drugs | \n",
       "|---|---|---|\n",
       "| 2006   | M      | 18.982 |  7     | 0      | 0      | 0      | 0      | 0      | 0      | ...    | 0      | 0      | 0      | 0      | 0      | 0      | 0      | 0      | 0      | 0      | \n",
       "| 2006   | F      | 18.801 |  0     | 0      | 1      | 0      | 0      | 0      | 0      | ...    | 0      | 1      | 0      | 0      | 0      | 0      | 0      | 0      | 0      | 0      | \n",
       "| 2006   | M      | 18.335 | 69     | 0      | 1      | 0      | 0      | 0      | 0      | ...    | 0      | 0      | 0      | 0      | 0      | 0      | 0      | 1      | 0      | 0      | \n",
       "\n",
       "\n"
      ],
      "text/plain": [
       "  gradyear gender age    friends basketball football soccer softball volleyball\n",
       "1 2006     M      18.982  7      0          0        0      0        0         \n",
       "2 2006     F      18.801  0      0          1        0      0        0         \n",
       "3 2006     M      18.335 69      0          1        0      0        0         \n",
       "  swimming ... blonde mall shopping clothes hollister abercrombie die death\n",
       "1 0        ... 0      0    0        0       0         0           0   0    \n",
       "2 0        ... 0      1    0        0       0         0           0   0    \n",
       "3 0        ... 0      0    0        0       0         0           0   1    \n",
       "  drunk drugs\n",
       "1 0     0    \n",
       "2 0     0    \n",
       "3 0     0    "
      ]
     },
     "metadata": {},
     "output_type": "display_data"
    },
    {
     "data": {
      "text/html": [
       "<ol class=list-inline>\n",
       "\t<li>30000</li>\n",
       "\t<li>40</li>\n",
       "</ol>\n"
      ],
      "text/latex": [
       "\\begin{enumerate*}\n",
       "\\item 30000\n",
       "\\item 40\n",
       "\\end{enumerate*}\n"
      ],
      "text/markdown": [
       "1. 30000\n",
       "2. 40\n",
       "\n",
       "\n"
      ],
      "text/plain": [
       "[1] 30000    40"
      ]
     },
     "metadata": {},
     "output_type": "display_data"
    }
   ],
   "source": [
    "teens <- read.csv(\"https://raw.githubusercontent.com/brenden17/sklearnlab/master/facebook/snsdata.csv\")\n",
    "head(teens,3)\n",
    "dim(teens)"
   ]
  },
  {
   "cell_type": "code",
   "execution_count": 215,
   "metadata": {},
   "outputs": [
    {
     "name": "stdout",
     "output_type": "stream",
     "text": [
      "'data.frame':\t30000 obs. of  40 variables:\n",
      " $ gradyear    : int  2006 2006 2006 2006 2006 2006 2006 2006 2006 2006 ...\n",
      " $ gender      : Factor w/ 2 levels \"F\",\"M\": 2 1 2 1 NA 1 1 2 1 1 ...\n",
      " $ age         : num  19 18.8 18.3 18.9 19 ...\n",
      " $ friends     : int  7 0 69 0 10 142 72 17 52 39 ...\n",
      " $ basketball  : int  0 0 0 0 0 0 0 0 0 0 ...\n",
      " $ football    : int  0 1 1 0 0 0 0 0 0 0 ...\n",
      " $ soccer      : int  0 0 0 0 0 0 0 0 0 0 ...\n",
      " $ softball    : int  0 0 0 0 0 0 0 1 0 0 ...\n",
      " $ volleyball  : int  0 0 0 0 0 0 0 0 0 0 ...\n",
      " $ swimming    : int  0 0 0 0 0 0 0 0 0 0 ...\n",
      " $ cheerleading: int  0 0 0 0 0 0 0 0 0 0 ...\n",
      " $ baseball    : int  0 0 0 0 0 0 0 0 0 0 ...\n",
      " $ tennis      : int  0 0 0 0 0 0 0 0 0 0 ...\n",
      " $ sports      : int  0 0 0 0 0 0 0 0 0 0 ...\n",
      " $ cute        : int  0 1 0 1 0 0 0 0 0 1 ...\n",
      " $ sex         : int  0 0 0 0 1 1 0 2 0 0 ...\n",
      " $ sexy        : int  0 0 0 0 0 0 0 1 0 0 ...\n",
      " $ hot         : int  0 0 0 0 0 0 0 0 0 1 ...\n",
      " $ kissed      : int  0 0 0 0 5 0 0 0 0 0 ...\n",
      " $ dance       : int  1 0 0 0 1 0 0 0 0 0 ...\n",
      " $ band        : int  0 0 2 0 1 0 1 0 0 0 ...\n",
      " $ marching    : int  0 0 0 0 0 1 1 0 0 0 ...\n",
      " $ music       : int  0 2 1 0 3 2 0 1 0 1 ...\n",
      " $ rock        : int  0 2 0 1 0 0 0 1 0 1 ...\n",
      " $ god         : int  0 1 0 0 1 0 0 0 0 6 ...\n",
      " $ church      : int  0 0 0 0 0 0 0 0 0 0 ...\n",
      " $ jesus       : int  0 0 0 0 0 0 0 0 0 2 ...\n",
      " $ bible       : int  0 0 0 0 0 0 0 0 0 0 ...\n",
      " $ hair        : int  0 6 0 0 1 0 0 0 0 1 ...\n",
      " $ dress       : int  0 4 0 0 0 1 0 0 0 0 ...\n",
      " $ blonde      : int  0 0 0 0 0 0 0 0 0 0 ...\n",
      " $ mall        : int  0 1 0 0 0 0 2 0 0 0 ...\n",
      " $ shopping    : int  0 0 0 0 2 1 0 0 0 1 ...\n",
      " $ clothes     : int  0 0 0 0 0 0 0 0 0 0 ...\n",
      " $ hollister   : int  0 0 0 0 0 0 2 0 0 0 ...\n",
      " $ abercrombie : int  0 0 0 0 0 0 0 0 0 0 ...\n",
      " $ die         : int  0 0 0 0 0 0 0 0 0 0 ...\n",
      " $ death       : int  0 0 1 0 0 0 0 0 0 0 ...\n",
      " $ drunk       : int  0 0 0 0 1 1 0 0 0 0 ...\n",
      " $ drugs       : int  0 0 0 0 1 0 0 0 0 0 ...\n"
     ]
    }
   ],
   "source": [
    "str(teens)"
   ]
  },
  {
   "cell_type": "code",
   "execution_count": 216,
   "metadata": {},
   "outputs": [
    {
     "data": {
      "text/plain": [
       "   Min. 1st Qu.  Median    Mean 3rd Qu.    Max.    NA's \n",
       "  3.086  16.312  17.287  17.994  18.259 106.927    5086 "
      ]
     },
     "metadata": {},
     "output_type": "display_data"
    }
   ],
   "source": [
    "summary(teens$age)"
   ]
  },
  {
   "cell_type": "code",
   "execution_count": 218,
   "metadata": {},
   "outputs": [
    {
     "data": {
      "text/html": [
       "<ol class=list-inline>\n",
       "\t<li>24005</li>\n",
       "\t<li>40</li>\n",
       "</ol>\n"
      ],
      "text/latex": [
       "\\begin{enumerate*}\n",
       "\\item 24005\n",
       "\\item 40\n",
       "\\end{enumerate*}\n"
      ],
      "text/markdown": [
       "1. 24005\n",
       "2. 40\n",
       "\n",
       "\n"
      ],
      "text/plain": [
       "[1] 24005    40"
      ]
     },
     "metadata": {},
     "output_type": "display_data"
    }
   ],
   "source": [
    "teens <- na.omit(teens)\n",
    "dim(teens)"
   ]
  },
  {
   "cell_type": "code",
   "execution_count": 220,
   "metadata": {},
   "outputs": [],
   "source": [
    "interests <- teens[5:40]\n",
    "interests_z <- as.data.frame(lapply(interests, scale))\n",
    "teen_clusters <- kmeans(interests_z, 5)"
   ]
  },
  {
   "cell_type": "code",
   "execution_count": 221,
   "metadata": {},
   "outputs": [
    {
     "data": {
      "text/html": [
       "<ol class=list-inline>\n",
       "\t<li>480</li>\n",
       "\t<li>468</li>\n",
       "\t<li>17920</li>\n",
       "\t<li>970</li>\n",
       "\t<li>4167</li>\n",
       "</ol>\n"
      ],
      "text/latex": [
       "\\begin{enumerate*}\n",
       "\\item 480\n",
       "\\item 468\n",
       "\\item 17920\n",
       "\\item 970\n",
       "\\item 4167\n",
       "\\end{enumerate*}\n"
      ],
      "text/markdown": [
       "1. 480\n",
       "2. 468\n",
       "3. 17920\n",
       "4. 970\n",
       "5. 4167\n",
       "\n",
       "\n"
      ],
      "text/plain": [
       "[1]   480   468 17920   970  4167"
      ]
     },
     "metadata": {},
     "output_type": "display_data"
    }
   ],
   "source": [
    "teen_clusters$size"
   ]
  },
  {
   "cell_type": "code",
   "execution_count": 222,
   "metadata": {},
   "outputs": [
    {
     "data": {
      "text/html": [
       "<table>\n",
       "<thead><tr><th></th><th scope=col>basketball</th><th scope=col>football</th><th scope=col>soccer</th><th scope=col>softball</th><th scope=col>volleyball</th><th scope=col>swimming</th><th scope=col>cheerleading</th><th scope=col>baseball</th><th scope=col>tennis</th><th scope=col>sports</th><th scope=col>...</th><th scope=col>blonde</th><th scope=col>mall</th><th scope=col>shopping</th><th scope=col>clothes</th><th scope=col>hollister</th><th scope=col>abercrombie</th><th scope=col>die</th><th scope=col>death</th><th scope=col>drunk</th><th scope=col>drugs</th></tr></thead>\n",
       "<tbody>\n",
       "\t<tr><th scope=row>1</th><td> 0.1004582   </td><td> 0.11331853  </td><td>-0.007623643 </td><td> 0.11051865  </td><td> 0.08199720  </td><td> 0.02499748  </td><td> 0.10448642  </td><td>-0.07623374  </td><td> 0.06981448  </td><td>-0.05572232  </td><td>...          </td><td>-0.002421324 </td><td> 0.4283216   </td><td> 0.62607541  </td><td> 0.2725947   </td><td> 0.03669443  </td><td> 0.05520467  </td><td> 0.06263957  </td><td> 0.04228428  </td><td>-0.06700951  </td><td> 0.0004950478</td></tr>\n",
       "\t<tr><th scope=row>2</th><td> 0.6391432   </td><td> 0.57035498  </td><td> 0.279274633 </td><td> 0.32246332  </td><td> 0.18421395  </td><td> 0.33378200  </td><td> 0.20316128  </td><td> 0.48309599  </td><td> 0.20557236  </td><td> 1.31275147  </td><td>...          </td><td> 0.584616595 </td><td> 0.6406392   </td><td> 0.38919194  </td><td> 1.7080213   </td><td> 0.45641604  </td><td> 0.68256740  </td><td> 1.52722272  </td><td> 0.90485800  </td><td> 1.21681079  </td><td> 2.5132002289</td></tr>\n",
       "\t<tr><th scope=row>3</th><td>-0.1360470   </td><td>-0.14120768  </td><td>-0.073102983 </td><td>-0.10168750  </td><td>-0.10622803  </td><td>-0.08022062  </td><td>-0.11135748  </td><td>-0.08784392  </td><td>-0.04521972  </td><td>-0.11216974  </td><td>...          </td><td>-0.026586194 </td><td>-0.1801637   </td><td>-0.20956120  </td><td>-0.1835987   </td><td>-0.15272206  </td><td>-0.14787597  </td><td>-0.11226665  </td><td>-0.09022770  </td><td>-0.16718808  </td><td>-0.1227387325</td></tr>\n",
       "\t<tr><th scope=row>4</th><td>-0.1003020   </td><td>-0.01608901  </td><td>-0.015628335 </td><td>-0.05046835  </td><td>-0.06878071  </td><td> 0.04563463  </td><td> 0.01975597  </td><td>-0.03253864  </td><td>-0.05771409  </td><td> 0.06931358  </td><td>...          </td><td> 0.035298202 </td><td> 0.3015240   </td><td>-0.04742441  </td><td> 0.1612501   </td><td>-0.05966658  </td><td>-0.02310741  </td><td> 1.18987447  </td><td> 0.60363884  </td><td> 3.12913504  </td><td> 1.2399579211</td></tr>\n",
       "\t<tr><th scope=row>5</th><td> 0.5250578   </td><td> 0.53389222  </td><td> 0.287526700 </td><td> 0.40010378  </td><td> 0.44270527  </td><td> 0.29399549  </td><td> 0.43943600  </td><td> 0.33986771  </td><td> 0.17677017  </td><td> 0.32522835  </td><td>...          </td><td> 0.040736025 </td><td> 0.5833075   </td><td> 0.79641958  </td><td> 0.5287923   </td><td> 0.61517636  </td><td> 0.55829418  </td><td> 0.02707774  </td><td> 0.14100809  </td><td>-0.13836178  </td><td>-0.0431236928</td></tr>\n",
       "</tbody>\n",
       "</table>\n"
      ],
      "text/latex": [
       "\\begin{tabular}{r|llllllllllllllllllllllllllllllllllll}\n",
       "  & basketball & football & soccer & softball & volleyball & swimming & cheerleading & baseball & tennis & sports & ... & blonde & mall & shopping & clothes & hollister & abercrombie & die & death & drunk & drugs\\\\\n",
       "\\hline\n",
       "\t1 &  0.1004582    &  0.11331853   & -0.007623643  &  0.11051865   &  0.08199720   &  0.02499748   &  0.10448642   & -0.07623374   &  0.06981448   & -0.05572232   & ...           & -0.002421324  &  0.4283216    &  0.62607541   &  0.2725947    &  0.03669443   &  0.05520467   &  0.06263957   &  0.04228428   & -0.06700951   &  0.0004950478\\\\\n",
       "\t2 &  0.6391432    &  0.57035498   &  0.279274633  &  0.32246332   &  0.18421395   &  0.33378200   &  0.20316128   &  0.48309599   &  0.20557236   &  1.31275147   & ...           &  0.584616595  &  0.6406392    &  0.38919194   &  1.7080213    &  0.45641604   &  0.68256740   &  1.52722272   &  0.90485800   &  1.21681079   &  2.5132002289\\\\\n",
       "\t3 & -0.1360470    & -0.14120768   & -0.073102983  & -0.10168750   & -0.10622803   & -0.08022062   & -0.11135748   & -0.08784392   & -0.04521972   & -0.11216974   & ...           & -0.026586194  & -0.1801637    & -0.20956120   & -0.1835987    & -0.15272206   & -0.14787597   & -0.11226665   & -0.09022770   & -0.16718808   & -0.1227387325\\\\\n",
       "\t4 & -0.1003020    & -0.01608901   & -0.015628335  & -0.05046835   & -0.06878071   &  0.04563463   &  0.01975597   & -0.03253864   & -0.05771409   &  0.06931358   & ...           &  0.035298202  &  0.3015240    & -0.04742441   &  0.1612501    & -0.05966658   & -0.02310741   &  1.18987447   &  0.60363884   &  3.12913504   &  1.2399579211\\\\\n",
       "\t5 &  0.5250578    &  0.53389222   &  0.287526700  &  0.40010378   &  0.44270527   &  0.29399549   &  0.43943600   &  0.33986771   &  0.17677017   &  0.32522835   & ...           &  0.040736025  &  0.5833075    &  0.79641958   &  0.5287923    &  0.61517636   &  0.55829418   &  0.02707774   &  0.14100809   & -0.13836178   & -0.0431236928\\\\\n",
       "\\end{tabular}\n"
      ],
      "text/markdown": [
       "\n",
       "| <!--/--> | basketball | football | soccer | softball | volleyball | swimming | cheerleading | baseball | tennis | sports | ... | blonde | mall | shopping | clothes | hollister | abercrombie | die | death | drunk | drugs | \n",
       "|---|---|---|---|---|\n",
       "| 1 |  0.1004582    |  0.11331853   | -0.007623643  |  0.11051865   |  0.08199720   |  0.02499748   |  0.10448642   | -0.07623374   |  0.06981448   | -0.05572232   | ...           | -0.002421324  |  0.4283216    |  0.62607541   |  0.2725947    |  0.03669443   |  0.05520467   |  0.06263957   |  0.04228428   | -0.06700951   |  0.0004950478 | \n",
       "| 2 |  0.6391432    |  0.57035498   |  0.279274633  |  0.32246332   |  0.18421395   |  0.33378200   |  0.20316128   |  0.48309599   |  0.20557236   |  1.31275147   | ...           |  0.584616595  |  0.6406392    |  0.38919194   |  1.7080213    |  0.45641604   |  0.68256740   |  1.52722272   |  0.90485800   |  1.21681079   |  2.5132002289 | \n",
       "| 3 | -0.1360470    | -0.14120768   | -0.073102983  | -0.10168750   | -0.10622803   | -0.08022062   | -0.11135748   | -0.08784392   | -0.04521972   | -0.11216974   | ...           | -0.026586194  | -0.1801637    | -0.20956120   | -0.1835987    | -0.15272206   | -0.14787597   | -0.11226665   | -0.09022770   | -0.16718808   | -0.1227387325 | \n",
       "| 4 | -0.1003020    | -0.01608901   | -0.015628335  | -0.05046835   | -0.06878071   |  0.04563463   |  0.01975597   | -0.03253864   | -0.05771409   |  0.06931358   | ...           |  0.035298202  |  0.3015240    | -0.04742441   |  0.1612501    | -0.05966658   | -0.02310741   |  1.18987447   |  0.60363884   |  3.12913504   |  1.2399579211 | \n",
       "| 5 |  0.5250578    |  0.53389222   |  0.287526700  |  0.40010378   |  0.44270527   |  0.29399549   |  0.43943600   |  0.33986771   |  0.17677017   |  0.32522835   | ...           |  0.040736025  |  0.5833075    |  0.79641958   |  0.5287923    |  0.61517636   |  0.55829418   |  0.02707774   |  0.14100809   | -0.13836178   | -0.0431236928 | \n",
       "\n",
       "\n"
      ],
      "text/plain": [
       "  basketball football    soccer       softball    volleyball  swimming   \n",
       "1  0.1004582  0.11331853 -0.007623643  0.11051865  0.08199720  0.02499748\n",
       "2  0.6391432  0.57035498  0.279274633  0.32246332  0.18421395  0.33378200\n",
       "3 -0.1360470 -0.14120768 -0.073102983 -0.10168750 -0.10622803 -0.08022062\n",
       "4 -0.1003020 -0.01608901 -0.015628335 -0.05046835 -0.06878071  0.04563463\n",
       "5  0.5250578  0.53389222  0.287526700  0.40010378  0.44270527  0.29399549\n",
       "  cheerleading baseball    tennis      sports      ... blonde       mall      \n",
       "1  0.10448642  -0.07623374  0.06981448 -0.05572232 ... -0.002421324  0.4283216\n",
       "2  0.20316128   0.48309599  0.20557236  1.31275147 ...  0.584616595  0.6406392\n",
       "3 -0.11135748  -0.08784392 -0.04521972 -0.11216974 ... -0.026586194 -0.1801637\n",
       "4  0.01975597  -0.03253864 -0.05771409  0.06931358 ...  0.035298202  0.3015240\n",
       "5  0.43943600   0.33986771  0.17677017  0.32522835 ...  0.040736025  0.5833075\n",
       "  shopping    clothes    hollister   abercrombie die         death      \n",
       "1  0.62607541  0.2725947  0.03669443  0.05520467  0.06263957  0.04228428\n",
       "2  0.38919194  1.7080213  0.45641604  0.68256740  1.52722272  0.90485800\n",
       "3 -0.20956120 -0.1835987 -0.15272206 -0.14787597 -0.11226665 -0.09022770\n",
       "4 -0.04742441  0.1612501 -0.05966658 -0.02310741  1.18987447  0.60363884\n",
       "5  0.79641958  0.5287923  0.61517636  0.55829418  0.02707774  0.14100809\n",
       "  drunk       drugs        \n",
       "1 -0.06700951  0.0004950478\n",
       "2  1.21681079  2.5132002289\n",
       "3 -0.16718808 -0.1227387325\n",
       "4  3.12913504  1.2399579211\n",
       "5 -0.13836178 -0.0431236928"
      ]
     },
     "metadata": {},
     "output_type": "display_data"
    }
   ],
   "source": [
    "teen_clusters$centers"
   ]
  },
  {
   "cell_type": "code",
   "execution_count": 230,
   "metadata": {},
   "outputs": [
    {
     "data": {
      "image/png": "[encoded data removed]",
      "text/plain": [
       "plot without title"
      ]
     },
     "metadata": {},
     "output_type": "display_data"
    }
   ],
   "source": [
    "pie(colSums(interests[teen_clusters$cluster==5,]),cex=2)"
   ]
  },
  {
   "cell_type": "markdown",
   "metadata": {},
   "source": [
    "## "
   ]
  }
 ],
 "metadata": {
  "kernelspec": {
   "display_name": "R",
   "language": "R",
   "name": "ir"
  },
  "language_info": {
   "codemirror_mode": "r",
   "file_extension": ".r",
   "mimetype": "text/x-r-source",
   "name": "R",
   "pygments_lexer": "r",
   "version": "3.5.1"
  }
 },
 "nbformat": 4,
 "nbformat_minor": 2
}
